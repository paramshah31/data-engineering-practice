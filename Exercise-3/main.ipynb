{
 "cells": [
  {
   "cell_type": "code",
   "execution_count": 1,
   "id": "f4a24936",
   "metadata": {},
   "outputs": [],
   "source": [
    "import boto3"
   ]
  },
  {
   "cell_type": "code",
   "execution_count": 2,
   "id": "a277ec76",
   "metadata": {},
   "outputs": [],
   "source": [
    "BUCKET_NAME = 'commoncrawl'\n",
    "KEY = 'crawl-data/CC-MAIN-2022-05/wet.paths.gz'"
   ]
  },
  {
   "cell_type": "code",
   "execution_count": 3,
   "id": "3bb9e8ef",
   "metadata": {},
   "outputs": [],
   "source": [
    "access_key = 'xxxxxxxxxxxxxxxxxxxx'\n",
    "secret_key = 'xxxxxxxxxxxxxxxxxxxxxxxxxxxxxxxxxxxxxxxx'"
   ]
  },
  {
   "cell_type": "code",
   "execution_count": 9,
   "id": "9ad4af33",
   "metadata": {},
   "outputs": [],
   "source": [
    "s3 = boto3.client('s3', aws_access_key_id=access_key , aws_secret_access_key=secret_key)\n",
    "s3.download_file(BUCKET_NAME,KEY,Filename='wet-paths.gz')"
   ]
  },
  {
   "cell_type": "markdown",
   "id": "c53dce1d",
   "metadata": {},
   "source": [
    "#### The file has been downloaded!"
   ]
  },
  {
   "cell_type": "code",
   "execution_count": 15,
   "id": "202a0936",
   "metadata": {},
   "outputs": [],
   "source": [
    "import gzip, pandas as pd"
   ]
  },
  {
   "cell_type": "code",
   "execution_count": 19,
   "id": "e99c9377",
   "metadata": {},
   "outputs": [],
   "source": [
    "with gzip.open('wet-paths.gz', 'rb') as f:\n",
    "    file_content = f.readline().rstrip()"
   ]
  },
  {
   "cell_type": "code",
   "execution_count": 20,
   "id": "c17c3822",
   "metadata": {},
   "outputs": [
    {
     "data": {
      "text/plain": [
       "b'crawl-data/CC-MAIN-2022-05/segments/1642320299852.23/wet/CC-MAIN-20220116093137-20220116123137-00000.warc.wet.gz'"
      ]
     },
     "execution_count": 20,
     "metadata": {},
     "output_type": "execute_result"
    }
   ],
   "source": [
    "file_content"
   ]
  },
  {
   "cell_type": "code",
   "execution_count": 26,
   "id": "c52d4341",
   "metadata": {},
   "outputs": [
    {
     "data": {
      "text/plain": [
       "'crawl-data/CC-MAIN-2022-05/segments/1642320299852.23/wet/CC-MAIN-20220116093137-20220116123137-00000.warc.wet.gz'"
      ]
     },
     "execution_count": 26,
     "metadata": {},
     "output_type": "execute_result"
    }
   ],
   "source": [
    "inner_url = file_content.decode(\"utf-8\")\n",
    "inner_url"
   ]
  },
  {
   "cell_type": "code",
   "execution_count": 27,
   "id": "f1455849",
   "metadata": {},
   "outputs": [],
   "source": [
    "s3 = boto3.client('s3', aws_access_key_id=access_key , aws_secret_access_key=secret_key)\n",
    "s3.download_file(BUCKET_NAME,inner_url,Filename='inner_file.gz')"
   ]
  },
  {
   "cell_type": "markdown",
   "id": "0dafc97a",
   "metadata": {},
   "source": [
    "#### The file has been downloaded!"
   ]
  },
  {
   "cell_type": "code",
   "execution_count": 49,
   "id": "88e8ebab",
   "metadata": {},
   "outputs": [
    {
     "name": "stdout",
     "output_type": "stream",
     "text": [
      "b'WARC/1.0\\r\\n'\n"
     ]
    }
   ],
   "source": [
    "with gzip.open('inner_file.gz', 'rb') as f:\n",
    "    inner_file_content = f.readline()\n",
    "    print(inner_file_content)"
   ]
  },
  {
   "cell_type": "code",
   "execution_count": 35,
   "id": "33e067c9",
   "metadata": {},
   "outputs": [],
   "source": [
    "import io\n",
    "file = io.BytesIO(inner_file_content)"
   ]
  },
  {
   "cell_type": "code",
   "execution_count": 44,
   "id": "1fb1de9d",
   "metadata": {},
   "outputs": [
    {
     "data": {
      "text/plain": [
       "_io.BytesIO"
      ]
     },
     "execution_count": 44,
     "metadata": {},
     "output_type": "execute_result"
    }
   ],
   "source": [
    "type(file)"
   ]
  },
  {
   "cell_type": "code",
   "execution_count": null,
   "id": "c1298b8b",
   "metadata": {},
   "outputs": [],
   "source": [
    "file.seek(0)"
   ]
  },
  {
   "cell_type": "code",
   "execution_count": null,
   "id": "20e33b22",
   "metadata": {},
   "outputs": [],
   "source": [
    "for line in file.read():\n",
    "    print(line)"
   ]
  }
 ],
 "metadata": {
  "kernelspec": {
   "display_name": "Python 3 (ipykernel)",
   "language": "python",
   "name": "python3"
  },
  "language_info": {
   "codemirror_mode": {
    "name": "ipython",
    "version": 3
   },
   "file_extension": ".py",
   "mimetype": "text/x-python",
   "name": "python",
   "nbconvert_exporter": "python",
   "pygments_lexer": "ipython3",
   "version": "3.9.7"
  }
 },
 "nbformat": 4,
 "nbformat_minor": 5
}
