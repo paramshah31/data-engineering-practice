{
  "nbformat": 4,
  "nbformat_minor": 0,
  "metadata": {
    "colab": {
      "provenance": []
    },
    "kernelspec": {
      "name": "python3",
      "display_name": "Python 3"
    },
    "language_info": {
      "name": "python"
    }
  },
  "cells": [
    {
      "cell_type": "code",
      "source": [
        "!pip install pyspark"
      ],
      "metadata": {
        "colab": {
          "base_uri": "https://localhost:8080/"
        },
        "id": "CbIddnvL4Ljw",
        "outputId": "17912e9f-24b0-497d-f86a-de5d3d95bcc3"
      },
      "execution_count": 2,
      "outputs": [
        {
          "output_type": "stream",
          "name": "stdout",
          "text": [
            "Collecting pyspark\n",
            "  Downloading pyspark-3.5.1.tar.gz (317.0 MB)\n",
            "\u001b[2K     \u001b[90m━━━━━━━━━━━━━━━━━━━━━━━━━━━━━━━━━━━━━━━━\u001b[0m \u001b[32m317.0/317.0 MB\u001b[0m \u001b[31m4.5 MB/s\u001b[0m eta \u001b[36m0:00:00\u001b[0m\n",
            "\u001b[?25h  Preparing metadata (setup.py) ... \u001b[?25l\u001b[?25hdone\n",
            "Requirement already satisfied: py4j==0.10.9.7 in /usr/local/lib/python3.10/dist-packages (from pyspark) (0.10.9.7)\n",
            "Building wheels for collected packages: pyspark\n",
            "  Building wheel for pyspark (setup.py) ... \u001b[?25l\u001b[?25hdone\n",
            "  Created wheel for pyspark: filename=pyspark-3.5.1-py2.py3-none-any.whl size=317488491 sha256=595c2b78ffd2a20ba5f2ee67a50f2d6718df57587add82b135a5409d6d05e3d8\n",
            "  Stored in directory: /root/.cache/pip/wheels/80/1d/60/2c256ed38dddce2fdd93be545214a63e02fbd8d74fb0b7f3a6\n",
            "Successfully built pyspark\n",
            "Installing collected packages: pyspark\n",
            "Successfully installed pyspark-3.5.1\n"
          ]
        }
      ]
    },
    {
      "cell_type": "code",
      "source": [
        "import zipfile\n",
        "import os\n",
        "import pandas as pd\n",
        "from pathlib import Path\n",
        "from pyspark.sql import SparkSession\n",
        "from pyspark.sql.functions import *\n",
        "from pyspark.sql import Window\n",
        "from datetime import datetime"
      ],
      "metadata": {
        "id": "nS43Yp6l5Ldw"
      },
      "execution_count": 33,
      "outputs": []
    },
    {
      "cell_type": "code",
      "source": [
        "spark = SparkSession.builder.appName(\"Exercise6\").getOrCreate()\n",
        "print(spark)"
      ],
      "metadata": {
        "colab": {
          "base_uri": "https://localhost:8080/"
        },
        "id": "nXLet2YD-_K-",
        "outputId": "0a28df4b-4ba5-4b1c-f530-2e4703202570"
      },
      "execution_count": 4,
      "outputs": [
        {
          "output_type": "stream",
          "name": "stdout",
          "text": [
            "<pyspark.sql.session.SparkSession object at 0x783c03414910>\n"
          ]
        }
      ]
    },
    {
      "cell_type": "code",
      "source": [
        "def read_csv_from_zip():\n",
        "  # the cols in 2019_Q4 & 2020_Q1 are different so can't be merged\n",
        "  # only using the former csv\n",
        "  download_loc = '/content/'\n",
        "  pandas_df = pd.DataFrame()\n",
        "  for item in os.listdir(download_loc):\n",
        "    if item.endswith('.zip'):\n",
        "      file_name = os.path.abspath(item)\n",
        "      print(\"File name: \", file_name)\n",
        "      zip_ref = zipfile.ZipFile(file_name)\n",
        "      for f in zip_ref.namelist():\n",
        "        if f.endswith('csv'):\n",
        "          with zip_ref.open(f) as f:\n",
        "              pandas_df = pd.read_csv(f, encoding_errors='ignore')\n",
        "              df = spark.createDataFrame(pandas_df)\n",
        "              return df"
      ],
      "metadata": {
        "id": "YKor10olBUdk"
      },
      "execution_count": 18,
      "outputs": []
    },
    {
      "cell_type": "code",
      "source": [
        "df = read_csv_from_zip()\n",
        "df.show()"
      ],
      "metadata": {
        "colab": {
          "base_uri": "https://localhost:8080/"
        },
        "id": "0XLdfejLBUaN",
        "outputId": "ce09131d-b99b-4e68-9128-2c85660aa9f4"
      },
      "execution_count": 19,
      "outputs": [
        {
          "output_type": "stream",
          "name": "stdout",
          "text": [
            "File name:  /content/Divvy_Trips_2019_Q4.zip\n",
            "+--------+-------------------+-------------------+------+------------+---------------+--------------------+-------------+--------------------+----------+------+---------+\n",
            "| trip_id|         start_time|           end_time|bikeid|tripduration|from_station_id|   from_station_name|to_station_id|     to_station_name|  usertype|gender|birthyear|\n",
            "+--------+-------------------+-------------------+------+------------+---------------+--------------------+-------------+--------------------+----------+------+---------+\n",
            "|25223640|2019-10-01 00:01:39|2019-10-01 00:17:20|  2215|       940.0|             20|Sheffield Ave & K...|          309|Leavitt St & Armi...|Subscriber|  Male|   1987.0|\n",
            "|25223641|2019-10-01 00:02:16|2019-10-01 00:06:34|  6328|       258.0|             19|Throop (Loomis) S...|          241| Morgan St & Polk St|Subscriber|  Male|   1998.0|\n",
            "|25223642|2019-10-01 00:04:32|2019-10-01 00:18:43|  3003|       850.0|             84|Milwaukee Ave & G...|          199|Wabash Ave & Gran...|Subscriber|Female|   1991.0|\n",
            "|25223643|2019-10-01 00:04:32|2019-10-01 00:43:43|  3275|     2,350.0|            313|Lakeview Ave & Fu...|          290|Kedzie Ave & Palm...|Subscriber|  Male|   1990.0|\n",
            "|25223644|2019-10-01 00:04:34|2019-10-01 00:35:42|  5294|     1,867.0|            210|Ashland Ave & Div...|          382|Western Ave & Con...|Subscriber|  Male|   1987.0|\n",
            "|25223645|2019-10-01 00:04:38|2019-10-01 00:10:51|  1891|       373.0|            156|Clark St & Wellin...|          226|Racine Ave & Belm...|Subscriber|Female|   1994.0|\n",
            "|25223646|2019-10-01 00:04:52|2019-10-01 00:22:45|  1061|     1,072.0|             84|Milwaukee Ave & G...|          142|McClurg Ct & Erie St|Subscriber|Female|   1991.0|\n",
            "|25223647|2019-10-01 00:04:57|2019-10-01 00:29:16|  1274|     1,458.0|            156|Clark St & Wellin...|          463|Clark St & Berwyn...|Subscriber|  Male|   1995.0|\n",
            "|25223648|2019-10-01 00:05:20|2019-10-01 00:29:18|  6011|     1,437.0|            156|Clark St & Wellin...|          463|Clark St & Berwyn...|Subscriber|Female|   1993.0|\n",
            "|25223649|2019-10-01 00:05:20|2019-10-01 02:23:46|  2957|     8,306.0|            336|Cottage Grove Ave...|          336|Cottage Grove Ave...|  Customer|   NaN|      NaN|\n",
            "|25223650|2019-10-01 00:05:30|2019-10-01 00:37:36|  2564|     1,925.0|             77|Clinton St & Madi...|          506|Spaulding Ave & A...|Subscriber|  Male|   1977.0|\n",
            "|25223651|2019-10-01 00:07:25|2019-10-01 00:19:53|  3601|       748.0|            198|Green St & Madiso...|          331|Halsted St & Clyb...|Subscriber|Female|   1980.0|\n",
            "|25223652|2019-10-01 00:08:40|2019-10-01 00:26:00|   711|     1,039.0|             66|Clinton St & Lake St|           16|Paulina Ave & Nor...|  Customer|  Male|   1994.0|\n",
            "|25223653|2019-10-01 00:08:52|2019-10-01 00:29:17|  5005|     1,224.0|            240|Sheridan Rd & Irv...|          230|Lincoln Ave & Ros...|  Customer|   NaN|      NaN|\n",
            "|25223655|2019-10-01 00:10:03|2019-10-01 00:15:30|  1730|       326.0|             66|Clinton St & Lake St|           88|Racine Ave & Rand...|Subscriber|  Male|   1992.0|\n",
            "|25223656|2019-10-01 00:10:46|2019-10-01 00:16:04|  4595|       318.0|            373|Kedzie Ave & Chic...|          377|Kedzie Ave & Lake St|  Customer|   NaN|      NaN|\n",
            "|25223657|2019-10-01 00:12:04|2019-10-01 01:13:36|  2958|     3,692.0|             74|Kingsbury St & Er...|          402|Shields Ave & 31s...|  Customer|Female|   1962.0|\n",
            "|25223658|2019-10-01 00:12:47|2019-10-01 00:17:55|  1489|       308.0|            289|Wells St & Concor...|          176|   Clark St & Elm St|Subscriber|  Male|   1992.0|\n",
            "|25223659|2019-10-01 00:13:21|2019-10-01 00:34:12|  3602|     1,251.0|            106|State St & Pearso...|          334|Lake Shore Dr & B...|  Customer|   NaN|      NaN|\n",
            "|25223660|2019-10-01 00:15:07|2019-10-01 00:40:34|  4228|     1,527.0|            133|Kingsbury St & Ki...|          673|Lincoln Park Cons...|  Customer|Female|   1995.0|\n",
            "+--------+-------------------+-------------------+------+------------+---------------+--------------------+-------------+--------------------+----------+------+---------+\n",
            "only showing top 20 rows\n",
            "\n"
          ]
        }
      ]
    },
    {
      "cell_type": "markdown",
      "source": [
        "Bring data into proper format."
      ],
      "metadata": {
        "id": "Q5k91l1QRU5N"
      }
    },
    {
      "cell_type": "code",
      "source": [
        "df = df.withColumn('start_time', unix_timestamp('start_time', 'yyyy-MM-dd HH:mm:ss').cast('timestamp')) \\\n",
        ".withColumn('end_time', unix_timestamp('end_time', 'yyyy-MM-dd HH:mm:ss').cast('timestamp')) \\\n",
        ".withColumn('tripduration', col('tripduration').cast('long'))"
      ],
      "metadata": {
        "id": "SZiKZGaUOh1a"
      },
      "execution_count": 20,
      "outputs": []
    },
    {
      "cell_type": "code",
      "source": [
        "df.printSchema()"
      ],
      "metadata": {
        "colab": {
          "base_uri": "https://localhost:8080/"
        },
        "id": "jufoCzenAc0l",
        "outputId": "8c38c2db-da12-4cde-95cc-0c94837690d7"
      },
      "execution_count": 21,
      "outputs": [
        {
          "output_type": "stream",
          "name": "stdout",
          "text": [
            "root\n",
            " |-- trip_id: long (nullable = true)\n",
            " |-- start_time: timestamp (nullable = true)\n",
            " |-- end_time: timestamp (nullable = true)\n",
            " |-- bikeid: long (nullable = true)\n",
            " |-- tripduration: long (nullable = true)\n",
            " |-- from_station_id: long (nullable = true)\n",
            " |-- from_station_name: string (nullable = true)\n",
            " |-- to_station_id: long (nullable = true)\n",
            " |-- to_station_name: string (nullable = true)\n",
            " |-- usertype: string (nullable = true)\n",
            " |-- gender: string (nullable = true)\n",
            " |-- birthyear: double (nullable = true)\n",
            "\n"
          ]
        }
      ]
    },
    {
      "cell_type": "markdown",
      "source": [
        "What is the average trip duration per day?\n"
      ],
      "metadata": {
        "id": "fK2h8JwXLhAn"
      }
    },
    {
      "cell_type": "code",
      "source": [
        "def avg_trip_duration_per_day(df):\n",
        "  average_trip_duration_per_day = df.groupBy(df.start_time.cast('date').alias('date')).agg(avg('tripduration').alias('average_trip_duration_seconds'))\n",
        "\n",
        "  return average_trip_duration_per_day.sort(\"date\").show()\n",
        "\n",
        "avg_trip_duration_per_day(df)"
      ],
      "metadata": {
        "colab": {
          "base_uri": "https://localhost:8080/"
        },
        "id": "CTmEwacdLVSl",
        "outputId": "aab01e42-acb9-47ee-c271-a1b20d8296b4"
      },
      "execution_count": 22,
      "outputs": [
        {
          "output_type": "stream",
          "name": "stdout",
          "text": [
            "+----------+-----------------------------+\n",
            "|      date|average_trip_duration_seconds|\n",
            "+----------+-----------------------------+\n",
            "|2019-10-01|            519.1034563470391|\n",
            "|2019-10-02|            489.1325637447672|\n",
            "|2019-10-03|            507.1099269445638|\n",
            "|2019-10-04|            502.3697794462694|\n",
            "|2019-10-05|            529.6975832789027|\n",
            "|2019-10-06|            540.2795057520239|\n",
            "|2019-10-07|            515.5357023690357|\n",
            "|2019-10-08|            515.4543694020819|\n",
            "|2019-10-09|            512.1497682738434|\n",
            "|2019-10-10|           505.07017693819984|\n",
            "|2019-10-11|            475.8004881025015|\n",
            "|2019-10-12|            500.3075485799701|\n",
            "|2019-10-13|            522.7091085584857|\n",
            "|2019-10-14|           497.98104315039797|\n",
            "|2019-10-15|           495.01938976377954|\n",
            "|2019-10-16|            489.1441823744202|\n",
            "|2019-10-17|             492.546112804878|\n",
            "|2019-10-18|           501.65576186265844|\n",
            "|2019-10-19|            543.4861073644456|\n",
            "|2019-10-20|            519.4521739130435|\n",
            "+----------+-----------------------------+\n",
            "only showing top 20 rows\n",
            "\n"
          ]
        }
      ]
    },
    {
      "cell_type": "markdown",
      "source": [
        "How many trips were taken each day?\n"
      ],
      "metadata": {
        "id": "9hyOt-S-VYJG"
      }
    },
    {
      "cell_type": "code",
      "source": [
        "def trips_per_day(df):\n",
        "  df = df.withColumn('start_date', to_date('start_time'))\n",
        "  trips_per_day = df.groupBy('start_date').agg(count('*').alias('trips_count'))\n",
        "  return trips_per_day.sort(\"start_date\").show()\n",
        "\n",
        "trips_per_day(df)"
      ],
      "metadata": {
        "colab": {
          "base_uri": "https://localhost:8080/"
        },
        "id": "cBFlA0ZgmvsQ",
        "outputId": "0f9d3e1d-496c-4a81-d7fc-9956dbcdb999"
      },
      "execution_count": 23,
      "outputs": [
        {
          "output_type": "stream",
          "name": "stdout",
          "text": [
            "+----------+-----------+\n",
            "|start_date|trips_count|\n",
            "+----------+-----------+\n",
            "|2019-10-01|      18425|\n",
            "|2019-10-02|       9882|\n",
            "|2019-10-03|      15647|\n",
            "|2019-10-04|      14570|\n",
            "|2019-10-05|      10452|\n",
            "|2019-10-06|      13396|\n",
            "|2019-10-07|      17256|\n",
            "|2019-10-08|      17537|\n",
            "|2019-10-09|      17226|\n",
            "|2019-10-10|      15795|\n",
            "|2019-10-11|       8016|\n",
            "|2019-10-12|       8702|\n",
            "|2019-10-13|      10533|\n",
            "|2019-10-14|      13785|\n",
            "|2019-10-15|      13297|\n",
            "|2019-10-16|      12886|\n",
            "|2019-10-17|      13635|\n",
            "|2019-10-18|      14096|\n",
            "|2019-10-19|      13953|\n",
            "|2019-10-20|      10419|\n",
            "+----------+-----------+\n",
            "only showing top 20 rows\n",
            "\n"
          ]
        }
      ]
    },
    {
      "cell_type": "markdown",
      "source": [
        "What was the most popular starting trip station for each month?"
      ],
      "metadata": {
        "id": "YEm2wUB-Vazs"
      }
    },
    {
      "cell_type": "code",
      "source": [
        "def popular_station_monthwise(df):\n",
        "  df = df.withColumn('month', month('start_time'))\n",
        "  station_counts = df.groupBy('month', 'from_station_name').agg(count('*').alias('station_count'))\n",
        "\n",
        "  window_spec = Window.partitionBy('month').orderBy(desc('station_count'))\n",
        "  ranked_stations = station_counts.withColumn('rank', rank().over(window_spec))\n",
        "  most_popular_station_per_month = ranked_stations.filter(col('rank') == 1) \\\n",
        "    .select('month', 'from_station_name', 'station_count').orderBy('month')\n",
        "  return most_popular_station_per_month.show()\n",
        "\n",
        "popular_station_monthwise(df)"
      ],
      "metadata": {
        "colab": {
          "base_uri": "https://localhost:8080/"
        },
        "id": "YgIVcVoiqvze",
        "outputId": "ced436bb-ea1d-4eba-d91a-7e5f89ea29b8"
      },
      "execution_count": 24,
      "outputs": [
        {
          "output_type": "stream",
          "name": "stdout",
          "text": [
            "+-----+-------------------+-------------+\n",
            "|month|  from_station_name|station_count|\n",
            "+-----+-------------------+-------------+\n",
            "|   10|Canal St & Adams St|         6564|\n",
            "|   11|Canal St & Adams St|         3445|\n",
            "|   12|Canal St & Adams St|         2928|\n",
            "+-----+-------------------+-------------+\n",
            "\n"
          ]
        }
      ]
    },
    {
      "cell_type": "markdown",
      "source": [
        "What were the top 3 trip stations each day for the last two weeks?"
      ],
      "metadata": {
        "id": "E-DY-SojVcvQ"
      }
    },
    {
      "cell_type": "code",
      "source": [
        "def top3(df):\n",
        "  df = df.withColumn('start_date', to_date('start_time'))\n",
        "  max_date = df.select(max('start_date')).collect()[0][0]\n",
        "\n",
        "  df_last_two_weeks = df.filter(col('start_date') >= (max_date - expr('INTERVAL 14 DAYS')))\n",
        "\n",
        "  station_counts = df_last_two_weeks.groupBy('start_date', 'from_station_name').agg(count('*').alias('station_count'))\n",
        "\n",
        "  # Rank stations within each day based on count\n",
        "  window_spec = Window.partitionBy('start_date').orderBy(col('station_count').desc())\n",
        "\n",
        "  ranked_stations = station_counts.withColumn('rank', rank().over(window_spec))\n",
        "\n",
        "  # Filter to keep only the top 3 stations for each day\n",
        "  top_3_trip_stations_per_day = ranked_stations.filter(col('rank') <= 3).select('start_date', 'from_station_name', 'station_count').orderBy('start_date', 'rank')\n",
        "  return top_3_trip_stations_per_day.show()\n",
        "\n",
        "\n",
        "top3(df)"
      ],
      "metadata": {
        "colab": {
          "base_uri": "https://localhost:8080/"
        },
        "id": "BGlnz9sHs_Tm",
        "outputId": "03d17d44-4019-46e0-f708-0cb02e865a30"
      },
      "execution_count": 27,
      "outputs": [
        {
          "output_type": "stream",
          "name": "stdout",
          "text": [
            "+----------+--------------------+-------------+\n",
            "|start_date|   from_station_name|station_count|\n",
            "+----------+--------------------+-------------+\n",
            "|2019-12-17| Canal St & Adams St|          153|\n",
            "|2019-12-17|Clinton St & Madi...|          144|\n",
            "|2019-12-17|Clinton St & Wash...|          124|\n",
            "|2019-12-18| Canal St & Adams St|          123|\n",
            "|2019-12-18|Clinton St & Madi...|          115|\n",
            "|2019-12-18|Clinton St & Wash...|           94|\n",
            "|2019-12-19| Canal St & Adams St|          133|\n",
            "|2019-12-19|Clinton St & Madi...|          123|\n",
            "|2019-12-19|Clinton St & Wash...|           95|\n",
            "|2019-12-20| Canal St & Adams St|          131|\n",
            "|2019-12-20|Clinton St & Wash...|          109|\n",
            "|2019-12-20|Clinton St & Madi...|           94|\n",
            "|2019-12-21|Streeter Dr & Gra...|           63|\n",
            "|2019-12-21|Kingsbury St & Ki...|           47|\n",
            "|2019-12-21|Wells St & Concor...|           46|\n",
            "|2019-12-22|      Shedd Aquarium|           87|\n",
            "|2019-12-22|Lake Shore Dr & M...|           79|\n",
            "|2019-12-22|Streeter Dr & Gra...|           70|\n",
            "|2019-12-23| Canal St & Adams St|          109|\n",
            "|2019-12-23|Clinton St & Madi...|           87|\n",
            "+----------+--------------------+-------------+\n",
            "only showing top 20 rows\n",
            "\n"
          ]
        }
      ]
    },
    {
      "cell_type": "markdown",
      "source": [
        "Do Males or Females take longer trips on average?"
      ],
      "metadata": {
        "id": "MpE2cjpMVeGO"
      }
    },
    {
      "cell_type": "code",
      "source": [
        "df.groupBy('gender').agg(avg('tripduration').alias('genderwise_trip_dur')).show()"
      ],
      "metadata": {
        "id": "wbmlGGMmVgIT",
        "colab": {
          "base_uri": "https://localhost:8080/"
        },
        "outputId": "c7378b52-b4de-4fcb-c09d-9777c07bcb68"
      },
      "execution_count": 31,
      "outputs": [
        {
          "output_type": "stream",
          "name": "stdout",
          "text": [
            "+------+-------------------+\n",
            "|gender|genderwise_trip_dur|\n",
            "+------+-------------------+\n",
            "|Female|  509.8082474784837|\n",
            "|   NaN|  611.8951609483015|\n",
            "|  Male|  478.6205057415161|\n",
            "+------+-------------------+\n",
            "\n"
          ]
        }
      ]
    },
    {
      "cell_type": "markdown",
      "source": [
        "What is the top 10 ages of those that take the longest trips, and shortest?"
      ],
      "metadata": {
        "id": "j_xeHXpbVgpe"
      }
    },
    {
      "cell_type": "code",
      "source": [
        "def top_10_longest(df):\n",
        "  df = df.withColumn('age', year('start_time') - col('birthyear'))\n",
        "\n",
        "  # Group by age and sum the trip durations\n",
        "  age_trip_durations = df.groupBy('age').agg({'trip_duration_seconds': 'sum'})\n",
        "\n",
        "  # Order by total trip duration in descending order\n",
        "  top_10_longest_trip_ages = age_trip_durations.orderBy(desc('sum(trip_duration_seconds)')).limit(10)\n",
        "\n",
        "  return top_10_longest_trip_ages.show()\n",
        "\n",
        "print(\"Top 10 ages of those who take the longest trips:\")\n",
        "top_10_longest(df)"
      ],
      "metadata": {
        "colab": {
          "base_uri": "https://localhost:8080/"
        },
        "id": "ogkUACff4hAj",
        "outputId": "77dc4eb2-004c-4d4b-9d52-ac688de7f241"
      },
      "execution_count": 44,
      "outputs": [
        {
          "output_type": "stream",
          "name": "stdout",
          "text": [
            "Top 10 ages of those who take the longest trips:\n",
            "+----+--------------------------+\n",
            "| age|sum(trip_duration_seconds)|\n",
            "+----+--------------------------+\n",
            "| NaN|                 245822730|\n",
            "|27.0|                  33720565|\n",
            "|28.0|                  33632688|\n",
            "|25.0|                  32515421|\n",
            "|29.0|                  32368795|\n",
            "|26.0|                  29348024|\n",
            "|30.0|                  28928675|\n",
            "|32.0|                  28793473|\n",
            "|31.0|                  26060245|\n",
            "|33.0|                  23483987|\n",
            "+----+--------------------------+\n",
            "\n"
          ]
        }
      ]
    }
  ]
}