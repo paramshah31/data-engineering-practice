{
  "nbformat": 4,
  "nbformat_minor": 0,
  "metadata": {
    "colab": {
      "provenance": []
    },
    "kernelspec": {
      "name": "python3",
      "display_name": "Python 3"
    },
    "language_info": {
      "name": "python"
    }
  },
  "cells": [
    {
      "cell_type": "code",
      "source": [
        "!pip install pyspark"
      ],
      "metadata": {
        "colab": {
          "base_uri": "https://localhost:8080/"
        },
        "id": "W9CSReC9q6eJ",
        "outputId": "1cc0abd0-3bc8-41ab-e22e-b618b0a2ca88"
      },
      "execution_count": 1,
      "outputs": [
        {
          "output_type": "stream",
          "name": "stdout",
          "text": [
            "Requirement already satisfied: pyspark in /usr/local/lib/python3.11/dist-packages (3.5.5)\n",
            "Requirement already satisfied: py4j==0.10.9.7 in /usr/local/lib/python3.11/dist-packages (from pyspark) (0.10.9.7)\n"
          ]
        }
      ]
    },
    {
      "cell_type": "code",
      "source": [
        "import zipfile\n",
        "import os\n",
        "import pandas as pd\n",
        "from pathlib import Path\n",
        "from pyspark.sql import SparkSession\n",
        "from tempfile import TemporaryDirectory\n",
        "import pyspark.sql.functions as F\n",
        "from pyspark.sql import Window\n",
        "from datetime import datetime"
      ],
      "metadata": {
        "id": "eDecgiehq6a0"
      },
      "execution_count": 2,
      "outputs": []
    },
    {
      "cell_type": "code",
      "source": [
        "spark = SparkSession.builder.appName(\"Exercise7\").getOrCreate()"
      ],
      "metadata": {
        "id": "Jayy68e6q-Vn"
      },
      "execution_count": 3,
      "outputs": []
    },
    {
      "cell_type": "code",
      "execution_count": 4,
      "metadata": {
        "id": "PddjswwoqpjY"
      },
      "outputs": [],
      "source": [
        "import os\n",
        "import zipfile\n",
        "from pyspark.sql import SparkSession\n",
        "\n",
        "def read_csv_from_zip(download_loc: str = '/content/'):\n",
        "    \"\"\"\n",
        "    Read CSV files from ZIP archives directly into Spark DataFrame using a direct approach.\n",
        "\n",
        "    Args:\n",
        "        download_loc (str): Directory path containing ZIP files\n",
        "\n",
        "    Returns:\n",
        "        pyspark.sql.DataFrame: Spark DataFrame containing CSV data\n",
        "\n",
        "    Raises:\n",
        "        FileNotFoundError: If no ZIP files found\n",
        "        ValueError: If no CSV files found in ZIP\n",
        "    \"\"\"\n",
        "    try:\n",
        "        # Find first ZIP file in directory\n",
        "        zip_files = [f for f in os.listdir(download_loc) if f.endswith('.zip')]\n",
        "        if not zip_files:\n",
        "            raise FileNotFoundError(\"No ZIP files found in directory\")\n",
        "\n",
        "        file_path = os.path.abspath(os.path.join(download_loc, zip_files[0]))\n",
        "        print(f\"Processing ZIP file: {file_path}\")\n",
        "\n",
        "        # Create an extraction directory if it doesn't exist\n",
        "        extract_dir = os.path.join(download_loc, 'temp_extract')\n",
        "        os.makedirs(extract_dir, exist_ok=True)\n",
        "\n",
        "        # Use context manager for ZIP file handling\n",
        "        with zipfile.ZipFile(file_path) as zip_ref:\n",
        "            # Find first CSV file in ZIP\n",
        "            csv_files = [f for f in zip_ref.namelist() if f.endswith('.csv')]\n",
        "            if not csv_files:\n",
        "                raise ValueError(\"No CSV files found in ZIP archive\")\n",
        "\n",
        "            # Extract CSV file\n",
        "            csv_path = zip_ref.extract(csv_files[0], extract_dir)\n",
        "\n",
        "            try:\n",
        "                # Read directly into Spark DataFrame\n",
        "                df = spark.read.csv(\n",
        "                    csv_path,\n",
        "                    header=True,\n",
        "                    inferSchema=True,\n",
        "                    mode='PERMISSIVE',\n",
        "                    multiLine=True,\n",
        "                    escape='\"'\n",
        "                )\n",
        "                return df\n",
        "            finally:\n",
        "              pass\n",
        "\n",
        "    except Exception as e:\n",
        "        print(f\"Error processing file: {str(e)}\")\n",
        "        raise"
      ]
    },
    {
      "cell_type": "code",
      "source": [
        "df = read_csv_from_zip()\n",
        "df.show()"
      ],
      "metadata": {
        "colab": {
          "base_uri": "https://localhost:8080/"
        },
        "id": "wrpVaX1KrUnQ",
        "outputId": "9b54d2d7-52cd-4326-ea10-611eda636e3b"
      },
      "execution_count": 5,
      "outputs": [
        {
          "output_type": "stream",
          "name": "stdout",
          "text": [
            "Processing ZIP file: /content/hard-drive-2022-01-01-failures.csv.zip\n",
            "+----------+--------------+--------------------+--------------+-------+------------------+-----------+------------------+-----------+------------------+-----------+------------------+-----------+------------------+-----------+------------------+-----------+------------------+-----------+------------------+-----------+-------------------+------------+-------------------+------------+-------------------+------------+-------------------+------------+-------------------+------------+-------------------+------------+-------------------+------------+-------------------+------------+-------------------+------------+-------------------+------------+-------------------+------------+--------------------+-------------+--------------------+-------------+--------------------+-------------+--------------------+-------------+--------------------+-------------+--------------------+-------------+--------------------+-------------+--------------------+-------------+--------------------+-------------+--------------------+-------------+--------------------+-------------+--------------------+-------------+--------------------+-------------+--------------------+-------------+--------------------+-------------+--------------------+-------------+--------------------+-------------+--------------------+-------------+--------------------+-------------+--------------------+-------------+--------------------+-------------+--------------------+-------------+--------------------+-------------+--------------------+-------------+--------------------+-------------+--------------------+-------------+--------------------+-------------+--------------------+-------------+--------------------+-------------+--------------------+-------------+--------------------+-------------+--------------------+-------------+--------------------+-------------+--------------------+-------------+--------------------+-------------+--------------------+-------------+--------------------+-------------+--------------------+-------------+--------------------+-------------+--------------------+-------------+--------------------+-------------+--------------------+-------------+--------------------+-------------+--------------------+-------------+--------------------+-------------+--------------------+-------------+--------------------+-------------+--------------------+-------------+--------------------+-------------+--------------------+-------------+--------------------+-------------+--------------------+-------------+--------------------+-------------+--------------------+-------------+--------------------+-------------+--------------------+-------------+--------------------+-------------+--------------------+-------------+--------------------+-------------+--------------------+-------------+--------------------+-------------+--------------------+-------------+--------------------+-------------+--------------------+-------------+--------------------+-------------+--------------------+-------------+--------------------+-------------+--------------------+-------------+\n",
            "|      date| serial_number|               model|capacity_bytes|failure|smart_1_normalized|smart_1_raw|smart_2_normalized|smart_2_raw|smart_3_normalized|smart_3_raw|smart_4_normalized|smart_4_raw|smart_5_normalized|smart_5_raw|smart_7_normalized|smart_7_raw|smart_8_normalized|smart_8_raw|smart_9_normalized|smart_9_raw|smart_10_normalized|smart_10_raw|smart_11_normalized|smart_11_raw|smart_12_normalized|smart_12_raw|smart_13_normalized|smart_13_raw|smart_15_normalized|smart_15_raw|smart_16_normalized|smart_16_raw|smart_17_normalized|smart_17_raw|smart_18_normalized|smart_18_raw|smart_22_normalized|smart_22_raw|smart_23_normalized|smart_23_raw|smart_24_normalized|smart_24_raw|smart_160_normalized|smart_160_raw|smart_161_normalized|smart_161_raw|smart_163_normalized|smart_163_raw|smart_164_normalized|smart_164_raw|smart_165_normalized|smart_165_raw|smart_166_normalized|smart_166_raw|smart_167_normalized|smart_167_raw|smart_168_normalized|smart_168_raw|smart_169_normalized|smart_169_raw|smart_170_normalized|smart_170_raw|smart_171_normalized|smart_171_raw|smart_172_normalized|smart_172_raw|smart_173_normalized|smart_173_raw|smart_174_normalized|smart_174_raw|smart_175_normalized|smart_175_raw|smart_176_normalized|smart_176_raw|smart_177_normalized|smart_177_raw|smart_178_normalized|smart_178_raw|smart_179_normalized|smart_179_raw|smart_180_normalized|smart_180_raw|smart_181_normalized|smart_181_raw|smart_182_normalized|smart_182_raw|smart_183_normalized|smart_183_raw|smart_184_normalized|smart_184_raw|smart_187_normalized|smart_187_raw|smart_188_normalized|smart_188_raw|smart_189_normalized|smart_189_raw|smart_190_normalized|smart_190_raw|smart_191_normalized|smart_191_raw|smart_192_normalized|smart_192_raw|smart_193_normalized|smart_193_raw|smart_194_normalized|smart_194_raw|smart_195_normalized|smart_195_raw|smart_196_normalized|smart_196_raw|smart_197_normalized|smart_197_raw|smart_198_normalized|smart_198_raw|smart_199_normalized|smart_199_raw|smart_200_normalized|smart_200_raw|smart_201_normalized|smart_201_raw|smart_202_normalized|smart_202_raw|smart_206_normalized|smart_206_raw|smart_210_normalized|smart_210_raw|smart_218_normalized|smart_218_raw|smart_220_normalized|smart_220_raw|smart_222_normalized|smart_222_raw|smart_223_normalized|smart_223_raw|smart_224_normalized|smart_224_raw|smart_225_normalized|smart_225_raw|smart_226_normalized|smart_226_raw|smart_230_normalized|smart_230_raw|smart_231_normalized|smart_231_raw|smart_232_normalized|smart_232_raw|smart_233_normalized|smart_233_raw|smart_234_normalized|smart_234_raw|smart_235_normalized|smart_235_raw|smart_240_normalized|smart_240_raw|smart_241_normalized|smart_241_raw|smart_242_normalized|smart_242_raw|smart_244_normalized|smart_244_raw|smart_245_normalized|smart_245_raw|smart_246_normalized|smart_246_raw|smart_247_normalized|smart_247_raw|smart_248_normalized|smart_248_raw|smart_250_normalized|smart_250_raw|smart_251_normalized|smart_251_raw|smart_252_normalized|smart_252_raw|smart_254_normalized|smart_254_raw|smart_255_normalized|smart_255_raw|\n",
            "+----------+--------------+--------------------+--------------+-------+------------------+-----------+------------------+-----------+------------------+-----------+------------------+-----------+------------------+-----------+------------------+-----------+------------------+-----------+------------------+-----------+-------------------+------------+-------------------+------------+-------------------+------------+-------------------+------------+-------------------+------------+-------------------+------------+-------------------+------------+-------------------+------------+-------------------+------------+-------------------+------------+-------------------+------------+--------------------+-------------+--------------------+-------------+--------------------+-------------+--------------------+-------------+--------------------+-------------+--------------------+-------------+--------------------+-------------+--------------------+-------------+--------------------+-------------+--------------------+-------------+--------------------+-------------+--------------------+-------------+--------------------+-------------+--------------------+-------------+--------------------+-------------+--------------------+-------------+--------------------+-------------+--------------------+-------------+--------------------+-------------+--------------------+-------------+--------------------+-------------+--------------------+-------------+--------------------+-------------+--------------------+-------------+--------------------+-------------+--------------------+-------------+--------------------+-------------+--------------------+-------------+--------------------+-------------+--------------------+-------------+--------------------+-------------+--------------------+-------------+--------------------+-------------+--------------------+-------------+--------------------+-------------+--------------------+-------------+--------------------+-------------+--------------------+-------------+--------------------+-------------+--------------------+-------------+--------------------+-------------+--------------------+-------------+--------------------+-------------+--------------------+-------------+--------------------+-------------+--------------------+-------------+--------------------+-------------+--------------------+-------------+--------------------+-------------+--------------------+-------------+--------------------+-------------+--------------------+-------------+--------------------+-------------+--------------------+-------------+--------------------+-------------+--------------------+-------------+--------------------+-------------+--------------------+-------------+--------------------+-------------+--------------------+-------------+--------------------+-------------+--------------------+-------------+--------------------+-------------+--------------------+-------------+--------------------+-------------+--------------------+-------------+--------------------+-------------+--------------------+-------------+\n",
            "|2022-01-01|      ZLW18P9K|       ST14000NM001G|14000519643136|      0|                73|   20467240|              NULL|       NULL|                90|          0|               100|         12|               100|          0|                87|  495846641|              NULL|       NULL|                89|       9937|                100|           0|               NULL|        NULL|                100|          12|               NULL|        NULL|               NULL|        NULL|               NULL|        NULL|               NULL|        NULL|                100|           0|               NULL|        NULL|               NULL|        NULL|               NULL|        NULL|                NULL|         NULL|                NULL|         NULL|                NULL|         NULL|                NULL|         NULL|                NULL|         NULL|                NULL|         NULL|                NULL|         NULL|                NULL|         NULL|                NULL|         NULL|                NULL|         NULL|                NULL|         NULL|                NULL|         NULL|                NULL|         NULL|                NULL|         NULL|                NULL|         NULL|                NULL|         NULL|                NULL|         NULL|                NULL|         NULL|                NULL|         NULL|                NULL|         NULL|                NULL|         NULL|                NULL|         NULL|                NULL|         NULL|                NULL|         NULL|                 100|            0|                 100|            0|                NULL|         NULL|                  66|           34|                NULL|         NULL|                 100|            2|                  99|         2641|                  34|           34|                NULL|         NULL|                NULL|         NULL|                 100|            0|                 100|            0|                 200|            0|                 100|            0|                NULL|         NULL|                NULL|         NULL|                NULL|         NULL|                NULL|         NULL|                NULL|         NULL|                NULL|         NULL|                NULL|         NULL|                NULL|         NULL|                NULL|         NULL|                NULL|         NULL|                NULL|         NULL|                NULL|         NULL|                NULL|         NULL|                NULL|         NULL|                NULL|         NULL|                NULL|         NULL|                NULL|         NULL|                 100|         9430|                 100|  75539400520|                 100| 139325292722|                NULL|         NULL|                NULL|         NULL|                NULL|         NULL|                NULL|         NULL|                NULL|         NULL|                NULL|         NULL|                NULL|         NULL|                NULL|         NULL|                NULL|         NULL|                NULL|         NULL|\n",
            "|2022-01-01|      ZLW0EGC7|       ST12000NM001G|12000138625024|      0|                84|  228715872|              NULL|       NULL|                99|          0|               100|          1|               100|          0|                90|  905087530|              NULL|       NULL|                85|      13174|                100|           0|               NULL|        NULL|                100|           1|               NULL|        NULL|               NULL|        NULL|               NULL|        NULL|               NULL|        NULL|                100|           0|               NULL|        NULL|               NULL|        NULL|               NULL|        NULL|                NULL|         NULL|                NULL|         NULL|                NULL|         NULL|                NULL|         NULL|                NULL|         NULL|                NULL|         NULL|                NULL|         NULL|                NULL|         NULL|                NULL|         NULL|                NULL|         NULL|                NULL|         NULL|                NULL|         NULL|                NULL|         NULL|                NULL|         NULL|                NULL|         NULL|                NULL|         NULL|                NULL|         NULL|                NULL|         NULL|                NULL|         NULL|                NULL|         NULL|                NULL|         NULL|                NULL|         NULL|                NULL|         NULL|                NULL|         NULL|                 100|            0|                 100|            0|                NULL|         NULL|                  53|           47|                NULL|         NULL|                 100|            0|                  99|         3840|                  47|           47|                NULL|         NULL|                NULL|         NULL|                 100|            0|                 100|            0|                 200|            0|                 100|            0|                NULL|         NULL|                NULL|         NULL|                NULL|         NULL|                NULL|         NULL|                NULL|         NULL|                NULL|         NULL|                NULL|         NULL|                NULL|         NULL|                NULL|         NULL|                NULL|         NULL|                NULL|         NULL|                NULL|         NULL|                NULL|         NULL|                NULL|         NULL|                NULL|         NULL|                NULL|         NULL|                NULL|         NULL|                 100|        12539|                 100|  70240933168|                 100| 164363287720|                NULL|         NULL|                NULL|         NULL|                NULL|         NULL|                NULL|         NULL|                NULL|         NULL|                NULL|         NULL|                NULL|         NULL|                NULL|         NULL|                NULL|         NULL|                NULL|         NULL|\n",
            "|2022-01-01|      ZA1FLE1P|        ST8000NM0055| 8001563222016|      0|                82|  157857120|              NULL|       NULL|                91|          0|               100|          7|               100|          0|                93| 1858834907|              NULL|       NULL|                86|      12781|                100|           0|               NULL|        NULL|                100|           7|               NULL|        NULL|               NULL|        NULL|               NULL|        NULL|               NULL|        NULL|               NULL|        NULL|               NULL|        NULL|               NULL|        NULL|               NULL|        NULL|                NULL|         NULL|                NULL|         NULL|                NULL|         NULL|                NULL|         NULL|                NULL|         NULL|                NULL|         NULL|                NULL|         NULL|                NULL|         NULL|                NULL|         NULL|                NULL|         NULL|                NULL|         NULL|                NULL|         NULL|                NULL|         NULL|                NULL|         NULL|                NULL|         NULL|                NULL|         NULL|                NULL|         NULL|                NULL|         NULL|                NULL|         NULL|                NULL|         NULL|                NULL|         NULL|                NULL|         NULL|                NULL|         NULL|                 100|            0|                 100|            0|                 100|            0|                 100|            0|                  63|           37|                  96|         8536|                 100|          105|                 100|          693|                  37|           37|                  82|    157857120|                NULL|         NULL|                 100|            0|                 100|            0|                 200|            0|                NULL|         NULL|                NULL|         NULL|                NULL|         NULL|                NULL|         NULL|                NULL|         NULL|                NULL|         NULL|                NULL|         NULL|                NULL|         NULL|                NULL|         NULL|                NULL|         NULL|                NULL|         NULL|                NULL|         NULL|                NULL|         NULL|                NULL|         NULL|                NULL|         NULL|                NULL|         NULL|                NULL|         NULL|                NULL|         NULL|                 100|        12734|                 100|  25301521848|                 100| 173854085302|                NULL|         NULL|                NULL|         NULL|                NULL|         NULL|                NULL|         NULL|                NULL|         NULL|                NULL|         NULL|                NULL|         NULL|                NULL|         NULL|                NULL|         NULL|                NULL|         NULL|\n",
            "|2022-01-01|      ZA16NQJR|        ST8000NM0055| 8001563222016|      0|                84|  234265456|              NULL|       NULL|                89|          0|               100|          8|               100|          0|                95| 2891515537|              NULL|       NULL|                54|      40970|                100|           0|               NULL|        NULL|                100|           8|               NULL|        NULL|               NULL|        NULL|               NULL|        NULL|               NULL|        NULL|               NULL|        NULL|               NULL|        NULL|               NULL|        NULL|               NULL|        NULL|                NULL|         NULL|                NULL|         NULL|                NULL|         NULL|                NULL|         NULL|                NULL|         NULL|                NULL|         NULL|                NULL|         NULL|                NULL|         NULL|                NULL|         NULL|                NULL|         NULL|                NULL|         NULL|                NULL|         NULL|                NULL|         NULL|                NULL|         NULL|                NULL|         NULL|                NULL|         NULL|                NULL|         NULL|                NULL|         NULL|                NULL|         NULL|                NULL|         NULL|                NULL|         NULL|                NULL|         NULL|                NULL|         NULL|                 100|            0|                 100|            0|                 100|            0|                 100|            0|                  67|           33|                  95|        11286|                 100|           15|                  69|        62343|                  33|           33|                  84|    234265456|                NULL|         NULL|                 100|            0|                 100|            0|                 200|            0|                NULL|         NULL|                NULL|         NULL|                NULL|         NULL|                NULL|         NULL|                NULL|         NULL|                NULL|         NULL|                NULL|         NULL|                NULL|         NULL|                NULL|         NULL|                NULL|         NULL|                NULL|         NULL|                NULL|         NULL|                NULL|         NULL|                NULL|         NULL|                NULL|         NULL|                NULL|         NULL|                NULL|         NULL|                NULL|         NULL|                 100|        40936|                 100|  83209739680|                 100| 302120432268|                NULL|         NULL|                NULL|         NULL|                NULL|         NULL|                NULL|         NULL|                NULL|         NULL|                NULL|         NULL|                NULL|         NULL|                NULL|         NULL|                NULL|         NULL|                NULL|         NULL|\n",
            "|2022-01-01|  1050A084F97G| TOSHIBA MG07ACA14TA|14000519643136|      0|               100|          0|               100|          0|               100|       7901|               100|          2|               100|          0|               100|          0|               100|          0|                85|       6104|                100|           0|               NULL|        NULL|                100|           2|               NULL|        NULL|               NULL|        NULL|               NULL|        NULL|               NULL|        NULL|               NULL|        NULL|               NULL|        NULL|                100|           0|                100|           0|                NULL|         NULL|                NULL|         NULL|                NULL|         NULL|                NULL|         NULL|                NULL|         NULL|                NULL|         NULL|                NULL|         NULL|                NULL|         NULL|                NULL|         NULL|                NULL|         NULL|                NULL|         NULL|                NULL|         NULL|                NULL|         NULL|                NULL|         NULL|                NULL|         NULL|                NULL|         NULL|                NULL|         NULL|                NULL|         NULL|                NULL|         NULL|                NULL|         NULL|                NULL|         NULL|                NULL|         NULL|                NULL|         NULL|                NULL|         NULL|                NULL|         NULL|                NULL|         NULL|                NULL|         NULL|                NULL|         NULL|                 100|            0|                 100|            1|                 100|           12|                 100|           28|                NULL|         NULL|                 100|            0|                 100|            0|                 100|            0|                 200|            0|                NULL|         NULL|                NULL|         NULL|                NULL|         NULL|                NULL|         NULL|                NULL|         NULL|                NULL|         NULL|                 100|    253362178|                  85|         6068|                 100|            0|                 100|            0|                NULL|         NULL|                 100|          589|                NULL|         NULL|                NULL|         NULL|                NULL|         NULL|                NULL|         NULL|                NULL|         NULL|                NULL|         NULL|                 100|            0|                NULL|         NULL|                NULL|         NULL|                NULL|         NULL|                NULL|         NULL|                NULL|         NULL|                NULL|         NULL|                NULL|         NULL|                NULL|         NULL|                NULL|         NULL|                NULL|         NULL|                NULL|         NULL|                NULL|         NULL|\n",
            "|2022-01-01|PL1331LAHEYUGH|HGST HMS5C4040BLE640| 4000787030016|      0|               100|          0|               133|        104|               142|        542|               100|         13|               100|          0|               100|          0|               113|         42|                94|      43072|                100|           0|               NULL|        NULL|                100|          13|               NULL|        NULL|               NULL|        NULL|               NULL|        NULL|               NULL|        NULL|               NULL|        NULL|               NULL|        NULL|               NULL|        NULL|               NULL|        NULL|                NULL|         NULL|                NULL|         NULL|                NULL|         NULL|                NULL|         NULL|                NULL|         NULL|                NULL|         NULL|                NULL|         NULL|                NULL|         NULL|                NULL|         NULL|                NULL|         NULL|                NULL|         NULL|                NULL|         NULL|                NULL|         NULL|                NULL|         NULL|                NULL|         NULL|                NULL|         NULL|                NULL|         NULL|                NULL|         NULL|                NULL|         NULL|                NULL|         NULL|                NULL|         NULL|                NULL|         NULL|                NULL|         NULL|                NULL|         NULL|                NULL|         NULL|                NULL|         NULL|                NULL|         NULL|                NULL|         NULL|                NULL|         NULL|                 100|          395|                 100|          395|                 253|           22|                NULL|         NULL|                 100|            0|                 100|            0|                 100|            0|                 200|            0|                NULL|         NULL|                NULL|         NULL|                NULL|         NULL|                NULL|         NULL|                NULL|         NULL|                NULL|         NULL|                NULL|         NULL|                NULL|         NULL|                NULL|         NULL|                NULL|         NULL|                NULL|         NULL|                NULL|         NULL|                NULL|         NULL|                NULL|         NULL|                NULL|         NULL|                NULL|         NULL|                NULL|         NULL|                NULL|         NULL|                NULL|         NULL|                NULL|         NULL|                NULL|         NULL|                NULL|         NULL|                NULL|         NULL|                NULL|         NULL|                NULL|         NULL|                NULL|         NULL|                NULL|         NULL|                NULL|         NULL|                NULL|         NULL|                NULL|         NULL|                NULL|         NULL|\n",
            "|2022-01-01|      ZA130TTW|         ST8000DM002| 8001563222016|      0|                83|  221445736|              NULL|       NULL|                96|          0|               100|          2|               100|          0|                94| 2740044896|              NULL|       NULL|                48|      46053|                100|           0|               NULL|        NULL|                100|           2|               NULL|        NULL|               NULL|        NULL|               NULL|        NULL|               NULL|        NULL|               NULL|        NULL|               NULL|        NULL|               NULL|        NULL|               NULL|        NULL|                NULL|         NULL|                NULL|         NULL|                NULL|         NULL|                NULL|         NULL|                NULL|         NULL|                NULL|         NULL|                NULL|         NULL|                NULL|         NULL|                NULL|         NULL|                NULL|         NULL|                NULL|         NULL|                NULL|         NULL|                NULL|         NULL|                NULL|         NULL|                NULL|         NULL|                NULL|         NULL|                NULL|         NULL|                NULL|         NULL|                NULL|         NULL|                NULL|         NULL|                NULL|         NULL|                NULL|         NULL|                NULL|         NULL|                 100|            0|                 100|            0|                 100|            0|                 100|            0|                  70|           30|                  78|        44300|                 100|            0|                  74|        52477|                  30|           30|                   1|    221445736|                NULL|         NULL|                 100|            0|                 100|            0|                 200|            0|                NULL|         NULL|                NULL|         NULL|                NULL|         NULL|                NULL|         NULL|                NULL|         NULL|                NULL|         NULL|                NULL|         NULL|                NULL|         NULL|                NULL|         NULL|                NULL|         NULL|                NULL|         NULL|                NULL|         NULL|                NULL|         NULL|                NULL|         NULL|                NULL|         NULL|                NULL|         NULL|                NULL|         NULL|                NULL|         NULL|                 100|        46007|                 100|  92979000192|                 100| 334927052596|                NULL|         NULL|                NULL|         NULL|                NULL|         NULL|                NULL|         NULL|                NULL|         NULL|                NULL|         NULL|                NULL|         NULL|                NULL|         NULL|                NULL|         NULL|                NULL|         NULL|\n",
            "|2022-01-01|  7040A07GF97G| TOSHIBA MG07ACA14TA|14000519643136|      0|               100|          0|               100|          0|               100|       7883|               100|          5|               100|          0|               100|          0|               100|          0|                79|       8603|                100|           0|               NULL|        NULL|                100|           5|               NULL|        NULL|               NULL|        NULL|               NULL|        NULL|               NULL|        NULL|               NULL|        NULL|               NULL|        NULL|                100|           0|                100|           0|                NULL|         NULL|                NULL|         NULL|                NULL|         NULL|                NULL|         NULL|                NULL|         NULL|                NULL|         NULL|                NULL|         NULL|                NULL|         NULL|                NULL|         NULL|                NULL|         NULL|                NULL|         NULL|                NULL|         NULL|                NULL|         NULL|                NULL|         NULL|                NULL|         NULL|                NULL|         NULL|                NULL|         NULL|                NULL|         NULL|                NULL|         NULL|                NULL|         NULL|                NULL|         NULL|                NULL|         NULL|                NULL|         NULL|                NULL|         NULL|                NULL|         NULL|                NULL|         NULL|                NULL|         NULL|                NULL|         NULL|                 100|            1|                 100|            2|                 100|           11|                 100|           23|                NULL|         NULL|                 100|            0|                 100|            0|                 100|            0|                 200|            0|                NULL|         NULL|                NULL|         NULL|                NULL|         NULL|                NULL|         NULL|                NULL|         NULL|                NULL|         NULL|                 100|    220332034|                  80|         8218|                 100|            0|                 100|            0|                NULL|         NULL|                 100|          590|                NULL|         NULL|                NULL|         NULL|                NULL|         NULL|                NULL|         NULL|                NULL|         NULL|                NULL|         NULL|                 100|            0|                NULL|         NULL|                NULL|         NULL|                NULL|         NULL|                NULL|         NULL|                NULL|         NULL|                NULL|         NULL|                NULL|         NULL|                NULL|         NULL|                NULL|         NULL|                NULL|         NULL|                NULL|         NULL|                NULL|         NULL|\n",
            "|2022-01-01|  1070A04CF97G| TOSHIBA MG07ACA14TA|14000519643136|      0|               100|          0|               100|          0|               100|       7853|               100|          4|               100|          0|               100|          0|               100|          0|                71|      11703|                100|           0|               NULL|        NULL|                100|           4|               NULL|        NULL|               NULL|        NULL|               NULL|        NULL|               NULL|        NULL|               NULL|        NULL|               NULL|        NULL|                100|           0|                100|           0|                NULL|         NULL|                NULL|         NULL|                NULL|         NULL|                NULL|         NULL|                NULL|         NULL|                NULL|         NULL|                NULL|         NULL|                NULL|         NULL|                NULL|         NULL|                NULL|         NULL|                NULL|         NULL|                NULL|         NULL|                NULL|         NULL|                NULL|         NULL|                NULL|         NULL|                NULL|         NULL|                NULL|         NULL|                NULL|         NULL|                NULL|         NULL|                NULL|         NULL|                NULL|         NULL|                NULL|         NULL|                NULL|         NULL|                NULL|         NULL|                NULL|         NULL|                NULL|         NULL|                NULL|         NULL|                NULL|         NULL|                 100|            0|                 100|            3|                 100|           15|                 100|           20|                NULL|         NULL|                 100|            0|                 100|            0|                 100|            0|                 200|            0|                NULL|         NULL|                NULL|         NULL|                NULL|         NULL|                NULL|         NULL|                NULL|         NULL|                NULL|         NULL|                 100|     67764225|                  72|        11262|                 100|            0|                 100|            0|                NULL|         NULL|                 100|          537|                NULL|         NULL|                NULL|         NULL|                NULL|         NULL|                NULL|         NULL|                NULL|         NULL|                NULL|         NULL|                 100|            0|                NULL|         NULL|                NULL|         NULL|                NULL|         NULL|                NULL|         NULL|                NULL|         NULL|                NULL|         NULL|                NULL|         NULL|                NULL|         NULL|                NULL|         NULL|                NULL|         NULL|                NULL|         NULL|                NULL|         NULL|\n",
            "|2022-01-01|      ZL005BVZ|       ST12000NM0008|12000138625024|      0|                75|   32337056|              NULL|       NULL|                92|          0|               100|          9|               100|          0|                78|   63364463|              NULL|       NULL|                87|      12105|                100|           0|               NULL|        NULL|                100|           9|               NULL|        NULL|               NULL|        NULL|               NULL|        NULL|               NULL|        NULL|                100|           0|               NULL|        NULL|               NULL|        NULL|               NULL|        NULL|                NULL|         NULL|                NULL|         NULL|                NULL|         NULL|                NULL|         NULL|                NULL|         NULL|                NULL|         NULL|                NULL|         NULL|                NULL|         NULL|                NULL|         NULL|                NULL|         NULL|                NULL|         NULL|                NULL|         NULL|                NULL|         NULL|                NULL|         NULL|                NULL|         NULL|                NULL|         NULL|                NULL|         NULL|                NULL|         NULL|                NULL|         NULL|                NULL|         NULL|                NULL|         NULL|                NULL|         NULL|                NULL|         NULL|                NULL|         NULL|                 100|            0|                 100|            0|                NULL|         NULL|                  72|           28|                NULL|         NULL|                 100|            4|                 100|          615|                  28|           28|                   1|     32337056|                NULL|         NULL|                 100|            0|                 100|            0|                 200|            0|                 100|            0|                NULL|         NULL|                NULL|         NULL|                NULL|         NULL|                NULL|         NULL|                NULL|         NULL|                NULL|         NULL|                NULL|         NULL|                NULL|         NULL|                NULL|         NULL|                NULL|         NULL|                NULL|         NULL|                NULL|         NULL|                NULL|         NULL|                NULL|         NULL|                NULL|         NULL|                NULL|         NULL|                NULL|         NULL|                 100|        12011|                 100|  24745044240|                 100| 143016192137|                NULL|         NULL|                NULL|         NULL|                NULL|         NULL|                NULL|         NULL|                NULL|         NULL|                NULL|         NULL|                NULL|         NULL|                NULL|         NULL|                NULL|         NULL|                NULL|         NULL|\n",
            "|2022-01-01|      ZLW0GQ83|       ST12000NM001G|12000138625024|      0|                79|   72922448|              NULL|       NULL|                93|          0|               100|          6|               100|          0|                79|   75004563|              NULL|       NULL|                85|      13533|                100|           0|               NULL|        NULL|                100|           6|               NULL|        NULL|               NULL|        NULL|               NULL|        NULL|               NULL|        NULL|                100|           0|               NULL|        NULL|               NULL|        NULL|               NULL|        NULL|                NULL|         NULL|                NULL|         NULL|                NULL|         NULL|                NULL|         NULL|                NULL|         NULL|                NULL|         NULL|                NULL|         NULL|                NULL|         NULL|                NULL|         NULL|                NULL|         NULL|                NULL|         NULL|                NULL|         NULL|                NULL|         NULL|                NULL|         NULL|                NULL|         NULL|                NULL|         NULL|                NULL|         NULL|                NULL|         NULL|                NULL|         NULL|                NULL|         NULL|                NULL|         NULL|                NULL|         NULL|                NULL|         NULL|                NULL|         NULL|                 100|            0|                 100|            0|                NULL|         NULL|                  57|           43|                NULL|         NULL|                 100|            2|                 100|          845|                  43|           43|                NULL|         NULL|                NULL|         NULL|                 100|            0|                 100|            0|                 200|            0|                 100|            0|                NULL|         NULL|                NULL|         NULL|                NULL|         NULL|                NULL|         NULL|                NULL|         NULL|                NULL|         NULL|                NULL|         NULL|                NULL|         NULL|                NULL|         NULL|                NULL|         NULL|                NULL|         NULL|                NULL|         NULL|                NULL|         NULL|                NULL|         NULL|                NULL|         NULL|                NULL|         NULL|                NULL|         NULL|                 100|        13382|                 100|  69498505568|                 100| 212069046100|                NULL|         NULL|                NULL|         NULL|                NULL|         NULL|                NULL|         NULL|                NULL|         NULL|                NULL|         NULL|                NULL|         NULL|                NULL|         NULL|                NULL|         NULL|                NULL|         NULL|\n",
            "|2022-01-01|      ZLW0GQ82|       ST12000NM001G|12000138625024|      0|                80|   91699904|              NULL|       NULL|                93|          0|               100|          6|               100|          0|                90|  919206004|              NULL|       NULL|                93|       6910|                100|           0|               NULL|        NULL|                100|           6|               NULL|        NULL|               NULL|        NULL|               NULL|        NULL|               NULL|        NULL|                100|           0|               NULL|        NULL|               NULL|        NULL|               NULL|        NULL|                NULL|         NULL|                NULL|         NULL|                NULL|         NULL|                NULL|         NULL|                NULL|         NULL|                NULL|         NULL|                NULL|         NULL|                NULL|         NULL|                NULL|         NULL|                NULL|         NULL|                NULL|         NULL|                NULL|         NULL|                NULL|         NULL|                NULL|         NULL|                NULL|         NULL|                NULL|         NULL|                NULL|         NULL|                NULL|         NULL|                NULL|         NULL|                NULL|         NULL|                NULL|         NULL|                NULL|         NULL|                NULL|         NULL|                NULL|         NULL|                 100|            0|                 100|            0|                NULL|         NULL|                  73|           27|                NULL|         NULL|                 100|            1|                 100|          398|                  27|           27|                NULL|         NULL|                NULL|         NULL|                 100|            0|                 100|            0|                 200|            0|                 100|            0|                NULL|         NULL|                NULL|         NULL|                NULL|         NULL|                NULL|         NULL|                NULL|         NULL|                NULL|         NULL|                NULL|         NULL|                NULL|         NULL|                NULL|         NULL|                NULL|         NULL|                NULL|         NULL|                NULL|         NULL|                NULL|         NULL|                NULL|         NULL|                NULL|         NULL|                NULL|         NULL|                NULL|         NULL|                 100|         6855|                 100|  24391148152|                 100|  89962089519|                NULL|         NULL|                NULL|         NULL|                NULL|         NULL|                NULL|         NULL|                NULL|         NULL|                NULL|         NULL|                NULL|         NULL|                NULL|         NULL|                NULL|         NULL|                NULL|         NULL|\n",
            "|2022-01-01|      ZLW0GQ81|       ST12000NM001G|12000138625024|      0|                79|   70864552|              NULL|       NULL|                97|          0|               100|          3|               100|          0|                78|   56922455|              NULL|       NULL|                85|      13525|                100|           0|               NULL|        NULL|                100|           3|               NULL|        NULL|               NULL|        NULL|               NULL|        NULL|               NULL|        NULL|                100|           0|               NULL|        NULL|               NULL|        NULL|               NULL|        NULL|                NULL|         NULL|                NULL|         NULL|                NULL|         NULL|                NULL|         NULL|                NULL|         NULL|                NULL|         NULL|                NULL|         NULL|                NULL|         NULL|                NULL|         NULL|                NULL|         NULL|                NULL|         NULL|                NULL|         NULL|                NULL|         NULL|                NULL|         NULL|                NULL|         NULL|                NULL|         NULL|                NULL|         NULL|                NULL|         NULL|                NULL|         NULL|                NULL|         NULL|                NULL|         NULL|                NULL|         NULL|                NULL|         NULL|                NULL|         NULL|                 100|            0|                 100|            0|                NULL|         NULL|                  58|           42|                NULL|         NULL|                 100|            0|                 100|          863|                  42|           42|                NULL|         NULL|                NULL|         NULL|                 100|            0|                 100|            0|                 200|            0|                 100|            0|                NULL|         NULL|                NULL|         NULL|                NULL|         NULL|                NULL|         NULL|                NULL|         NULL|                NULL|         NULL|                NULL|         NULL|                NULL|         NULL|                NULL|         NULL|                NULL|         NULL|                NULL|         NULL|                NULL|         NULL|                NULL|         NULL|                NULL|         NULL|                NULL|         NULL|                NULL|         NULL|                NULL|         NULL|                 100|        13373|                 100|  69011529152|                 100| 219634073812|                NULL|         NULL|                NULL|         NULL|                NULL|         NULL|                NULL|         NULL|                NULL|         NULL|                NULL|         NULL|                NULL|         NULL|                NULL|         NULL|                NULL|         NULL|                NULL|         NULL|\n",
            "|2022-01-01|      ZLW18P9F|       ST14000NM001G|14000519643136|      0|                76|   42353080|              NULL|       NULL|                95|          0|               100|          4|               100|          0|                90|  900548183|              NULL|       NULL|                88|      10577|                100|           0|               NULL|        NULL|                100|           4|               NULL|        NULL|               NULL|        NULL|               NULL|        NULL|               NULL|        NULL|                100|           0|               NULL|        NULL|               NULL|        NULL|               NULL|        NULL|                NULL|         NULL|                NULL|         NULL|                NULL|         NULL|                NULL|         NULL|                NULL|         NULL|                NULL|         NULL|                NULL|         NULL|                NULL|         NULL|                NULL|         NULL|                NULL|         NULL|                NULL|         NULL|                NULL|         NULL|                NULL|         NULL|                NULL|         NULL|                NULL|         NULL|                NULL|         NULL|                NULL|         NULL|                NULL|         NULL|                NULL|         NULL|                NULL|         NULL|                NULL|         NULL|                NULL|         NULL|                NULL|         NULL|                NULL|         NULL|                 100|            0|                 100|            0|                NULL|         NULL|                  69|           31|                NULL|         NULL|                 100|            0|                 100|         1779|                  31|           31|                NULL|         NULL|                NULL|         NULL|                 100|            0|                 100|            0|                 200|            0|                 100|            0|                NULL|         NULL|                NULL|         NULL|                NULL|         NULL|                NULL|         NULL|                NULL|         NULL|                NULL|         NULL|                NULL|         NULL|                NULL|         NULL|                NULL|         NULL|                NULL|         NULL|                NULL|         NULL|                NULL|         NULL|                NULL|         NULL|                NULL|         NULL|                NULL|         NULL|                NULL|         NULL|                NULL|         NULL|                 100|         9886|                 100|  70891573288|                 100| 169873815588|                NULL|         NULL|                NULL|         NULL|                NULL|         NULL|                NULL|         NULL|                NULL|         NULL|                NULL|         NULL|                NULL|         NULL|                NULL|         NULL|                NULL|         NULL|                NULL|         NULL|\n",
            "|2022-01-01|      ZLW0GQ87|       ST12000NM001G|12000138625024|      0|                75|   33143352|              NULL|       NULL|                90|          0|               100|         17|               100|          0|                90|  990190833|              NULL|       NULL|                84|      14319|                100|           0|               NULL|        NULL|                100|          16|               NULL|        NULL|               NULL|        NULL|               NULL|        NULL|               NULL|        NULL|                100|           0|               NULL|        NULL|               NULL|        NULL|               NULL|        NULL|                NULL|         NULL|                NULL|         NULL|                NULL|         NULL|                NULL|         NULL|                NULL|         NULL|                NULL|         NULL|                NULL|         NULL|                NULL|         NULL|                NULL|         NULL|                NULL|         NULL|                NULL|         NULL|                NULL|         NULL|                NULL|         NULL|                NULL|         NULL|                NULL|         NULL|                NULL|         NULL|                NULL|         NULL|                NULL|         NULL|                NULL|         NULL|                NULL|         NULL|                NULL|         NULL|                NULL|         NULL|                NULL|         NULL|                NULL|         NULL|                 100|            0|                 100|            0|                NULL|         NULL|                  74|           26|                NULL|         NULL|                 100|            4|                 100|         1111|                  26|           26|                NULL|         NULL|                NULL|         NULL|                 100|            0|                 100|            0|                 200|            0|                 100|            0|                NULL|         NULL|                NULL|         NULL|                NULL|         NULL|                NULL|         NULL|                NULL|         NULL|                NULL|         NULL|                NULL|         NULL|                NULL|         NULL|                NULL|         NULL|                NULL|         NULL|                NULL|         NULL|                NULL|         NULL|                NULL|         NULL|                NULL|         NULL|                NULL|         NULL|                NULL|         NULL|                NULL|         NULL|                 100|        14004|                 100|  69857804656|                 100| 224853786146|                NULL|         NULL|                NULL|         NULL|                NULL|         NULL|                NULL|         NULL|                NULL|         NULL|                NULL|         NULL|                NULL|         NULL|                NULL|         NULL|                NULL|         NULL|                NULL|         NULL|\n",
            "|2022-01-01|      ZLW0GQ86|       ST12000NM001G|12000138625024|      0|                65|    3441128|              NULL|       NULL|                95|          0|               100|          5|               100|          0|                81|  115928487|              NULL|       NULL|                88|      10516|                100|           0|               NULL|        NULL|                100|           5|               NULL|        NULL|               NULL|        NULL|               NULL|        NULL|               NULL|        NULL|                100|           0|               NULL|        NULL|               NULL|        NULL|               NULL|        NULL|                NULL|         NULL|                NULL|         NULL|                NULL|         NULL|                NULL|         NULL|                NULL|         NULL|                NULL|         NULL|                NULL|         NULL|                NULL|         NULL|                NULL|         NULL|                NULL|         NULL|                NULL|         NULL|                NULL|         NULL|                NULL|         NULL|                NULL|         NULL|                NULL|         NULL|                NULL|         NULL|                NULL|         NULL|                NULL|         NULL|                NULL|         NULL|                NULL|         NULL|                NULL|         NULL|                NULL|         NULL|                NULL|         NULL|                NULL|         NULL|                 100|            0|                 100|            0|                NULL|         NULL|                  73|           27|                NULL|         NULL|                 100|            1|                 100|          695|                  27|           27|                NULL|         NULL|                NULL|         NULL|                 100|            0|                 100|            0|                 200|            0|                 100|            0|                NULL|         NULL|                NULL|         NULL|                NULL|         NULL|                NULL|         NULL|                NULL|         NULL|                NULL|         NULL|                NULL|         NULL|                NULL|         NULL|                NULL|         NULL|                NULL|         NULL|                NULL|         NULL|                NULL|         NULL|                NULL|         NULL|                NULL|         NULL|                NULL|         NULL|                NULL|         NULL|                NULL|         NULL|                 100|        10372|                 100|  24913981120|                 100| 151363543470|                NULL|         NULL|                NULL|         NULL|                NULL|         NULL|                NULL|         NULL|                NULL|         NULL|                NULL|         NULL|                NULL|         NULL|                NULL|         NULL|                NULL|         NULL|                NULL|         NULL|\n",
            "|2022-01-01|      ZLW0GQ85|       ST12000NM001G|12000138625024|      0|                75|   29766016|              NULL|       NULL|                95|          0|               100|          4|               100|          0|                90|  997472825|              NULL|       NULL|                85|      13532|                100|           0|               NULL|        NULL|                100|           3|               NULL|        NULL|               NULL|        NULL|               NULL|        NULL|               NULL|        NULL|                100|           0|               NULL|        NULL|               NULL|        NULL|               NULL|        NULL|                NULL|         NULL|                NULL|         NULL|                NULL|         NULL|                NULL|         NULL|                NULL|         NULL|                NULL|         NULL|                NULL|         NULL|                NULL|         NULL|                NULL|         NULL|                NULL|         NULL|                NULL|         NULL|                NULL|         NULL|                NULL|         NULL|                NULL|         NULL|                NULL|         NULL|                NULL|         NULL|                NULL|         NULL|                NULL|         NULL|                NULL|         NULL|                NULL|         NULL|                NULL|         NULL|                NULL|         NULL|                NULL|         NULL|                NULL|         NULL|                 100|            0|                 100|            0|                NULL|         NULL|                  67|           33|                NULL|         NULL|                 100|            0|                 100|          832|                  33|           33|                NULL|         NULL|                NULL|         NULL|                 100|            0|                 100|            0|                 200|            0|                 100|            0|                NULL|         NULL|                NULL|         NULL|                NULL|         NULL|                NULL|         NULL|                NULL|         NULL|                NULL|         NULL|                NULL|         NULL|                NULL|         NULL|                NULL|         NULL|                NULL|         NULL|                NULL|         NULL|                NULL|         NULL|                NULL|         NULL|                NULL|         NULL|                NULL|         NULL|                NULL|         NULL|                NULL|         NULL|                 100|        13383|                 100|  69634673856|                 100| 220678876112|                NULL|         NULL|                NULL|         NULL|                NULL|         NULL|                NULL|         NULL|                NULL|         NULL|                NULL|         NULL|                NULL|         NULL|                NULL|         NULL|                NULL|         NULL|                NULL|         NULL|\n",
            "|2022-01-01|  Z8A0A057F97G| TOSHIBA MG07ACA14TA|14000519643136|      0|               100|          0|               100|          0|               100|       7907|               100|          3|               100|          0|               100|          0|               100|          0|                53|      18818|                100|           0|               NULL|        NULL|                100|           3|               NULL|        NULL|               NULL|        NULL|               NULL|        NULL|               NULL|        NULL|               NULL|        NULL|               NULL|        NULL|                100|           0|                100|           0|                NULL|         NULL|                NULL|         NULL|                NULL|         NULL|                NULL|         NULL|                NULL|         NULL|                NULL|         NULL|                NULL|         NULL|                NULL|         NULL|                NULL|         NULL|                NULL|         NULL|                NULL|         NULL|                NULL|         NULL|                NULL|         NULL|                NULL|         NULL|                NULL|         NULL|                NULL|         NULL|                NULL|         NULL|                NULL|         NULL|                NULL|         NULL|                NULL|         NULL|                NULL|         NULL|                NULL|         NULL|                NULL|         NULL|                NULL|         NULL|                NULL|         NULL|                NULL|         NULL|                NULL|         NULL|                NULL|         NULL|                 100|            0|                 100|            0|                 100|           77|                 100|           33|                NULL|         NULL|                 100|            0|                 100|            0|                 100|            0|                 200|            0|                NULL|         NULL|                NULL|         NULL|                NULL|         NULL|                NULL|         NULL|                NULL|         NULL|                NULL|         NULL|                 100|    101842947|                  54|        18771|                 100|            0|                 100|            0|                NULL|         NULL|                 100|          589|                NULL|         NULL|                NULL|         NULL|                NULL|         NULL|                NULL|         NULL|                NULL|         NULL|                NULL|         NULL|                 100|            0|                NULL|         NULL|                NULL|         NULL|                NULL|         NULL|                NULL|         NULL|                NULL|         NULL|                NULL|         NULL|                NULL|         NULL|                NULL|         NULL|                NULL|         NULL|                NULL|         NULL|                NULL|         NULL|                NULL|         NULL|\n",
            "|2022-01-01|      ZHZ62XAR|       ST12000NM0008|12000138625024|      0|                82|  157046584|              NULL|       NULL|                94|          0|               100|          5|               100|          0|                81|  130740832|              NULL|       NULL|                83|      15600|                100|           0|               NULL|        NULL|                100|           5|               NULL|        NULL|               NULL|        NULL|               NULL|        NULL|               NULL|        NULL|                100|           0|               NULL|        NULL|               NULL|        NULL|               NULL|        NULL|                NULL|         NULL|                NULL|         NULL|                NULL|         NULL|                NULL|         NULL|                NULL|         NULL|                NULL|         NULL|                NULL|         NULL|                NULL|         NULL|                NULL|         NULL|                NULL|         NULL|                NULL|         NULL|                NULL|         NULL|                NULL|         NULL|                NULL|         NULL|                NULL|         NULL|                NULL|         NULL|                NULL|         NULL|                NULL|         NULL|                NULL|         NULL|                NULL|         NULL|                NULL|         NULL|                NULL|         NULL|                NULL|         NULL|                NULL|         NULL|                 100|            0|                 100|            0|                NULL|         NULL|                  68|           32|                NULL|         NULL|                 100|            0|                 100|          885|                  32|           32|                   1|    157046584|                NULL|         NULL|                 100|            0|                 100|            0|                 200|            0|                 100|            0|                NULL|         NULL|                NULL|         NULL|                NULL|         NULL|                NULL|         NULL|                NULL|         NULL|                NULL|         NULL|                NULL|         NULL|                NULL|         NULL|                NULL|         NULL|                NULL|         NULL|                NULL|         NULL|                NULL|         NULL|                NULL|         NULL|                NULL|         NULL|                NULL|         NULL|                NULL|         NULL|                NULL|         NULL|                 100|        15477|                 100|  75229025704|                 100| 191285915211|                NULL|         NULL|                NULL|         NULL|                NULL|         NULL|                NULL|         NULL|                NULL|         NULL|                NULL|         NULL|                NULL|         NULL|                NULL|         NULL|                NULL|         NULL|                NULL|         NULL|\n",
            "|2022-01-01|      ZHZ5B3TB|       ST12000NM0008|12000138625024|      0|                80|   90855280|              NULL|       NULL|                98|          0|               100|          2|               100|          0|                74|   23594247|              NULL|       NULL|                84|      14866|                100|           0|               NULL|        NULL|                100|           2|               NULL|        NULL|               NULL|        NULL|               NULL|        NULL|               NULL|        NULL|                100|           0|               NULL|        NULL|               NULL|        NULL|               NULL|        NULL|                NULL|         NULL|                NULL|         NULL|                NULL|         NULL|                NULL|         NULL|                NULL|         NULL|                NULL|         NULL|                NULL|         NULL|                NULL|         NULL|                NULL|         NULL|                NULL|         NULL|                NULL|         NULL|                NULL|         NULL|                NULL|         NULL|                NULL|         NULL|                NULL|         NULL|                NULL|         NULL|                NULL|         NULL|                NULL|         NULL|                NULL|         NULL|                NULL|         NULL|                NULL|         NULL|                NULL|         NULL|                NULL|         NULL|                NULL|         NULL|                 100|            0|                 100|            0|                NULL|         NULL|                  63|           37|                NULL|         NULL|                 100|            1|                 100|         1749|                  37|           37|                   1|     90855280|                NULL|         NULL|                 100|            0|                 100|            0|                 200|            0|                 100|            0|                NULL|         NULL|                NULL|         NULL|                NULL|         NULL|                NULL|         NULL|                NULL|         NULL|                NULL|         NULL|                NULL|         NULL|                NULL|         NULL|                NULL|         NULL|                NULL|         NULL|                NULL|         NULL|                NULL|         NULL|                NULL|         NULL|                NULL|         NULL|                NULL|         NULL|                NULL|         NULL|                NULL|         NULL|                 100|        14546|                 100|  72142146792|                 100| 186982414012|                NULL|         NULL|                NULL|         NULL|                NULL|         NULL|                NULL|         NULL|                NULL|         NULL|                NULL|         NULL|                NULL|         NULL|                NULL|         NULL|                NULL|         NULL|                NULL|         NULL|\n",
            "+----------+--------------+--------------------+--------------+-------+------------------+-----------+------------------+-----------+------------------+-----------+------------------+-----------+------------------+-----------+------------------+-----------+------------------+-----------+------------------+-----------+-------------------+------------+-------------------+------------+-------------------+------------+-------------------+------------+-------------------+------------+-------------------+------------+-------------------+------------+-------------------+------------+-------------------+------------+-------------------+------------+-------------------+------------+--------------------+-------------+--------------------+-------------+--------------------+-------------+--------------------+-------------+--------------------+-------------+--------------------+-------------+--------------------+-------------+--------------------+-------------+--------------------+-------------+--------------------+-------------+--------------------+-------------+--------------------+-------------+--------------------+-------------+--------------------+-------------+--------------------+-------------+--------------------+-------------+--------------------+-------------+--------------------+-------------+--------------------+-------------+--------------------+-------------+--------------------+-------------+--------------------+-------------+--------------------+-------------+--------------------+-------------+--------------------+-------------+--------------------+-------------+--------------------+-------------+--------------------+-------------+--------------------+-------------+--------------------+-------------+--------------------+-------------+--------------------+-------------+--------------------+-------------+--------------------+-------------+--------------------+-------------+--------------------+-------------+--------------------+-------------+--------------------+-------------+--------------------+-------------+--------------------+-------------+--------------------+-------------+--------------------+-------------+--------------------+-------------+--------------------+-------------+--------------------+-------------+--------------------+-------------+--------------------+-------------+--------------------+-------------+--------------------+-------------+--------------------+-------------+--------------------+-------------+--------------------+-------------+--------------------+-------------+--------------------+-------------+--------------------+-------------+--------------------+-------------+--------------------+-------------+--------------------+-------------+--------------------+-------------+--------------------+-------------+--------------------+-------------+--------------------+-------------+--------------------+-------------+--------------------+-------------+--------------------+-------------+--------------------+-------------+--------------------+-------------+--------------------+-------------+\n",
            "only showing top 20 rows\n",
            "\n"
          ]
        }
      ]
    },
    {
      "cell_type": "markdown",
      "source": [
        "1. Add the file name as a column to the DataFrame and call it `source_file`."
      ],
      "metadata": {
        "id": "5qIg1EzJ3ilR"
      }
    },
    {
      "cell_type": "code",
      "source": [
        "# add a column and place all values to be a string\n",
        "df = df.withColumn('source_file', F.lit('hard-drive-2022-01-01-failures.csv'))"
      ],
      "metadata": {
        "id": "1bicH6tcsKdf"
      },
      "execution_count": 6,
      "outputs": []
    },
    {
      "cell_type": "markdown",
      "source": [
        "2. Pull the date located inside the string of the `source_file` column. Final data-type must be date or timestamp, not a string. Call the new column `file_date`."
      ],
      "metadata": {
        "id": "ngWUs1SV5UGe"
      }
    },
    {
      "cell_type": "code",
      "source": [
        "df = df.withColumn(\"file_date\", F.to_date(F.regexp_extract(df[\"source_file\"], r\"(\\d{4}-\\d{2}-\\d{2})\", 1), \"yyyy-MM-dd\"))\n",
        "df.schema['file_date'].dataType"
      ],
      "metadata": {
        "colab": {
          "base_uri": "https://localhost:8080/"
        },
        "id": "h_-CUQb27Nf3",
        "outputId": "0f08a667-7be7-4e4c-c384-28c99e3e25d0"
      },
      "execution_count": 7,
      "outputs": [
        {
          "output_type": "execute_result",
          "data": {
            "text/plain": [
              "DateType()"
            ]
          },
          "metadata": {},
          "execution_count": 7
        }
      ]
    },
    {
      "cell_type": "markdown",
      "source": [
        "3. Add a new column called `brand`. It will be based on the column `model`. If the column `model` has a space ... aka   in it, split on that space. The value found before the space   will be considered the brand. If there is no space to split on, fill in a value called unknown for the brand."
      ],
      "metadata": {
        "id": "J1_B7lH47i39"
      }
    },
    {
      "cell_type": "code",
      "source": [
        "df = df.withColumn('brand',\n",
        "    F.when(F.col(\"model\").contains(\" \"), F.split(F.col(\"model\"),\" \")[0]).otherwise(\"unknown\")\n",
        ")"
      ],
      "metadata": {
        "id": "0aeb0mD-7Rqh"
      },
      "execution_count": 8,
      "outputs": []
    },
    {
      "cell_type": "markdown",
      "source": [
        "4. Inspect a column called `capacity_bytes`. Create a secondary DataFrame that relates `capacity_bytes` to the model column, create \"buckets\" / \"rankings\" for those models with the most capacity to the least. Bring back that data as a column called storage_ranking into the main dataset."
      ],
      "metadata": {
        "id": "ZgENhyyrBFH_"
      }
    },
    {
      "cell_type": "code",
      "source": [
        "new_df = df.select('capacity_bytes', 'model')\n",
        "new_df.show()"
      ],
      "metadata": {
        "colab": {
          "base_uri": "https://localhost:8080/"
        },
        "id": "xnzBDrvCDJcO",
        "outputId": "14490b9d-cc6a-40c1-bfa9-e16337288e75"
      },
      "execution_count": 9,
      "outputs": [
        {
          "output_type": "stream",
          "name": "stdout",
          "text": [
            "+--------------+--------------------+\n",
            "|capacity_bytes|               model|\n",
            "+--------------+--------------------+\n",
            "|14000519643136|       ST14000NM001G|\n",
            "|12000138625024|       ST12000NM001G|\n",
            "| 8001563222016|        ST8000NM0055|\n",
            "| 8001563222016|        ST8000NM0055|\n",
            "|14000519643136| TOSHIBA MG07ACA14TA|\n",
            "| 4000787030016|HGST HMS5C4040BLE640|\n",
            "| 8001563222016|         ST8000DM002|\n",
            "|14000519643136| TOSHIBA MG07ACA14TA|\n",
            "|14000519643136| TOSHIBA MG07ACA14TA|\n",
            "|12000138625024|       ST12000NM0008|\n",
            "|12000138625024|       ST12000NM001G|\n",
            "|12000138625024|       ST12000NM001G|\n",
            "|12000138625024|       ST12000NM001G|\n",
            "|14000519643136|       ST14000NM001G|\n",
            "|12000138625024|       ST12000NM001G|\n",
            "|12000138625024|       ST12000NM001G|\n",
            "|12000138625024|       ST12000NM001G|\n",
            "|14000519643136| TOSHIBA MG07ACA14TA|\n",
            "|12000138625024|       ST12000NM0008|\n",
            "|12000138625024|       ST12000NM0008|\n",
            "+--------------+--------------------+\n",
            "only showing top 20 rows\n",
            "\n"
          ]
        }
      ]
    },
    {
      "cell_type": "code",
      "source": [
        "new_df.sort(F.col('capacity_bytes').desc()).show()"
      ],
      "metadata": {
        "colab": {
          "base_uri": "https://localhost:8080/"
        },
        "id": "NCXL9AcqCz9b",
        "outputId": "ea7cdd9a-1aa9-4cc8-cda6-67f187f0a3e4"
      },
      "execution_count": 10,
      "outputs": [
        {
          "output_type": "stream",
          "name": "stdout",
          "text": [
            "+--------------+-------------+\n",
            "|capacity_bytes|        model|\n",
            "+--------------+-------------+\n",
            "|18000207937536|ST18000NM000J|\n",
            "|18000207937536|ST18000NM000J|\n",
            "|18000207937536|ST18000NM000J|\n",
            "|18000207937536|ST18000NM000J|\n",
            "|18000207937536|ST18000NM000J|\n",
            "|18000207937536|ST18000NM000J|\n",
            "|18000207937536|ST18000NM000J|\n",
            "|18000207937536|ST18000NM000J|\n",
            "|18000207937536|ST18000NM000J|\n",
            "|18000207937536|ST18000NM000J|\n",
            "|18000207937536|ST18000NM000J|\n",
            "|18000207937536|ST18000NM000J|\n",
            "|18000207937536|ST18000NM000J|\n",
            "|18000207937536|ST18000NM000J|\n",
            "|18000207937536|ST18000NM000J|\n",
            "|18000207937536|ST18000NM000J|\n",
            "|18000207937536|ST18000NM000J|\n",
            "|18000207937536|ST18000NM000J|\n",
            "|18000207937536|ST18000NM000J|\n",
            "|18000207937536|ST18000NM000J|\n",
            "+--------------+-------------+\n",
            "only showing top 20 rows\n",
            "\n"
          ]
        }
      ]
    },
    {
      "cell_type": "code",
      "source": [
        "df.select('capacity_bytes').distinct().count()"
      ],
      "metadata": {
        "colab": {
          "base_uri": "https://localhost:8080/"
        },
        "id": "cUJ8i5rXDoz9",
        "outputId": "3ec8ef69-81ca-4e4b-a2af-ff5f59c507a7"
      },
      "execution_count": 11,
      "outputs": [
        {
          "output_type": "execute_result",
          "data": {
            "text/plain": [
              "15"
            ]
          },
          "metadata": {},
          "execution_count": 11
        }
      ]
    },
    {
      "cell_type": "code",
      "source": [
        "new_df = new_df.withColumn('storage_ranking', F.rank().over(Window.orderBy(F.col('capacity_bytes').desc())))"
      ],
      "metadata": {
        "id": "Ckiy5Wu9DZxf"
      },
      "execution_count": 12,
      "outputs": []
    },
    {
      "cell_type": "code",
      "source": [
        "new_df.select('storage_ranking', 'capacity_bytes').show()"
      ],
      "metadata": {
        "colab": {
          "base_uri": "https://localhost:8080/"
        },
        "id": "W0nipQb6EHLx",
        "outputId": "4ad39687-9816-476c-a2fc-d1b3c65980af"
      },
      "execution_count": 13,
      "outputs": [
        {
          "output_type": "stream",
          "name": "stdout",
          "text": [
            "+---------------+--------------+\n",
            "|storage_ranking|capacity_bytes|\n",
            "+---------------+--------------+\n",
            "|              1|18000207937536|\n",
            "|              1|18000207937536|\n",
            "|              1|18000207937536|\n",
            "|              1|18000207937536|\n",
            "|              1|18000207937536|\n",
            "|              1|18000207937536|\n",
            "|              1|18000207937536|\n",
            "|              1|18000207937536|\n",
            "|              1|18000207937536|\n",
            "|              1|18000207937536|\n",
            "|              1|18000207937536|\n",
            "|              1|18000207937536|\n",
            "|              1|18000207937536|\n",
            "|              1|18000207937536|\n",
            "|              1|18000207937536|\n",
            "|              1|18000207937536|\n",
            "|              1|18000207937536|\n",
            "|              1|18000207937536|\n",
            "|              1|18000207937536|\n",
            "|              1|18000207937536|\n",
            "+---------------+--------------+\n",
            "only showing top 20 rows\n",
            "\n"
          ]
        }
      ]
    },
    {
      "source": [
        "df = df.join(new_df.select('capacity_bytes', 'storage_ranking'), on='capacity_bytes', how='left')"
      ],
      "cell_type": "code",
      "metadata": {
        "id": "MrOWeAKQNNMx"
      },
      "execution_count": 17,
      "outputs": []
    },
    {
      "cell_type": "markdown",
      "source": [
        "5. Create a column called `primary_key` that is hash of columns that make a record unique in this dataset."
      ],
      "metadata": {
        "id": "0yjgwchkOgRC"
      }
    },
    {
      "cell_type": "code",
      "source": [
        "df = df.withColumn('primary_key', F.hash(*[F.col(c) for c in df.columns]))"
      ],
      "metadata": {
        "collapsed": true,
        "id": "1ngJ77OXPJo-"
      },
      "execution_count": null,
      "outputs": []
    }
  ]
}