{
 "cells": [
  {
   "cell_type": "code",
   "execution_count": 11,
   "id": "da9b4800",
   "metadata": {
    "scrolled": true
   },
   "outputs": [],
   "source": [
    "import requests, zipfile, validators"
   ]
  },
  {
   "cell_type": "code",
   "execution_count": 12,
   "id": "a5544317",
   "metadata": {
    "scrolled": true
   },
   "outputs": [],
   "source": [
    "download_uris = [\n",
    "    'https://divvy-tripdata.s3.amazonaws.com/Divvy_Trips_2018_Q4.zip',\n",
    "    'https://divvy-tripdata.s3.amazonaws.com/Divvy_Trips_2019_Q1.zip',\n",
    "    'https://divvy-tripdata.s3.amazonaws.com/Divvy_Trips_2019_Q2.zip',\n",
    "    'https://divvy-tripdata.s3.amazonaws.com/Divvy_Trips_2019_Q3.zip',\n",
    "    'https://divvy-tripdata.s3.amazonaws.com/Divvy_Trips_2019_Q4.zip',\n",
    "    'https://divvy-tripdata.s3.amazonaws.com/Divvy_Trips_2020_Q1.zip',\n",
    "    'https://divvy-tripdata.s3.amazonaws.com/Divvy_Trips_2220_Q1.zip'\n",
    "]"
   ]
  },
  {
   "cell_type": "code",
   "execution_count": null,
   "id": "e5dbea37",
   "metadata": {
    "scrolled": true
   },
   "outputs": [],
   "source": [
    "import os\n",
    "download_loc = 'C:/Users/Param/Desktop/Projects/data-engineering-practice-main/Exercises/Exercise-1/downloads'\n",
    "os.mkdir(download_loc)"
   ]
  },
  {
   "cell_type": "code",
   "execution_count": null,
   "id": "7f75cecd",
   "metadata": {
    "scrolled": true
   },
   "outputs": [],
   "source": [
    "import wget\n",
    "# downloading all files\n",
    "for url in download_uris:\n",
    "    if validators.url(url) == True:\n",
    "        wget.download(url,out = download_loc)\n",
    "    else:\n",
    "        print(url+' is not valid!')"
   ]
  },
  {
   "cell_type": "code",
   "execution_count": 15,
   "id": "a946c2d0",
   "metadata": {
    "scrolled": true
   },
   "outputs": [],
   "source": [
    "os.chdir(download_loc) # change directory from working dir to dir with files\n",
    "\n",
    "for item in os.listdir(download_loc):\n",
    "    if item.endswith('.zip'):\n",
    "        file_name = os.path.abspath(item)\n",
    "        zip_ref = zipfile.ZipFile(file_name)\n",
    "        zip_ref.extractall(download_loc)\n",
    "        zip_ref.close()\n",
    "        os.remove(file_name) # delete zipped file"
   ]
  }
 ],
 "metadata": {
  "kernelspec": {
   "display_name": "Python 3 (ipykernel)",
   "language": "python",
   "name": "python3"
  },
  "language_info": {
   "codemirror_mode": {
    "name": "ipython",
    "version": 3
   },
   "file_extension": ".py",
   "mimetype": "text/x-python",
   "name": "python",
   "nbconvert_exporter": "python",
   "pygments_lexer": "ipython3",
   "version": "3.9.7"
  }
 },
 "nbformat": 4,
 "nbformat_minor": 5
}
