{
 "cells": [
  {
   "cell_type": "code",
   "execution_count": 1,
   "id": "75174097",
   "metadata": {},
   "outputs": [],
   "source": [
    "import boto3, glob, json, csv, pandas as pd"
   ]
  },
  {
   "cell_type": "code",
   "execution_count": 2,
   "id": "2b0af6ea",
   "metadata": {},
   "outputs": [
    {
     "name": "stdout",
     "output_type": "stream",
     "text": [
      " data\n",
      "--- file-1.json\n",
      "--- enough_already\n",
      "------ file-4.json\n",
      "--- other_folder\n",
      "------ file-3.json\n",
      "--- some_folder\n",
      "------ test.csv\n",
      "------ other_folder\n",
      "--------- file-2.json\n"
     ]
    }
   ],
   "source": [
    "import os\n",
    "# traverse root directory, and list directories as dirs and files as files\n",
    "for root, dirs, files in os.walk(\"./data\"):\n",
    "    path = root.split(os.sep)\n",
    "    print((len(path) - 1) * '---', os.path.basename(root))\n",
    "    for file in files:\n",
    "        print(len(path) * '---', file)"
   ]
  },
  {
   "cell_type": "code",
   "execution_count": 3,
   "id": "3d5ae9f9",
   "metadata": {},
   "outputs": [],
   "source": [
    "f1 = f2 = f3 = f4 = pd.DataFrame()"
   ]
  },
  {
   "cell_type": "code",
   "execution_count": 8,
   "id": "62c2004c",
   "metadata": {},
   "outputs": [],
   "source": [
    "def split_coordinate(df):\n",
    "    df['x-coordinate'] = df['geolocation.coordinates'].apply(lambda x: x[0])\n",
    "    df['y-coordinate'] = df['geolocation.coordinates'].apply(lambda x: x[1])\n",
    "    df.drop(columns=['geolocation.coordinates'], inplace=True)\n",
    "    \n",
    "    return df"
   ]
  },
  {
   "cell_type": "markdown",
   "id": "77d1789c",
   "metadata": {},
   "source": [
    "## File-1"
   ]
  },
  {
   "cell_type": "code",
   "execution_count": 5,
   "id": "341b45ec",
   "metadata": {},
   "outputs": [],
   "source": [
    "os.chdir(\"./data\")"
   ]
  },
  {
   "cell_type": "code",
   "execution_count": 6,
   "id": "260e0f2f",
   "metadata": {},
   "outputs": [
    {
     "data": {
      "text/html": [
       "<div>\n",
       "<style scoped>\n",
       "    .dataframe tbody tr th:only-of-type {\n",
       "        vertical-align: middle;\n",
       "    }\n",
       "\n",
       "    .dataframe tbody tr th {\n",
       "        vertical-align: top;\n",
       "    }\n",
       "\n",
       "    .dataframe thead th {\n",
       "        text-align: right;\n",
       "    }\n",
       "</style>\n",
       "<table border=\"1\" class=\"dataframe\">\n",
       "  <thead>\n",
       "    <tr style=\"text-align: right;\">\n",
       "      <th></th>\n",
       "      <th>name</th>\n",
       "      <th>id</th>\n",
       "      <th>nametype</th>\n",
       "      <th>recclass</th>\n",
       "      <th>mass</th>\n",
       "      <th>fall</th>\n",
       "      <th>year</th>\n",
       "      <th>reclat</th>\n",
       "      <th>reclong</th>\n",
       "      <th>geolocation.type</th>\n",
       "      <th>geolocation.coordinates</th>\n",
       "    </tr>\n",
       "  </thead>\n",
       "  <tbody>\n",
       "    <tr>\n",
       "      <th>0</th>\n",
       "      <td>Aachen</td>\n",
       "      <td>1</td>\n",
       "      <td>Valid</td>\n",
       "      <td>L5</td>\n",
       "      <td>21</td>\n",
       "      <td>Fell</td>\n",
       "      <td>1880-01-01T00:00:00.000</td>\n",
       "      <td>50.775000</td>\n",
       "      <td>6.083330</td>\n",
       "      <td>Point</td>\n",
       "      <td>[6.08333, 50.775]</td>\n",
       "    </tr>\n",
       "  </tbody>\n",
       "</table>\n",
       "</div>"
      ],
      "text/plain": [
       "     name id nametype recclass mass  fall                     year     reclat  \\\n",
       "0  Aachen  1    Valid       L5   21  Fell  1880-01-01T00:00:00.000  50.775000   \n",
       "\n",
       "    reclong geolocation.type geolocation.coordinates  \n",
       "0  6.083330            Point       [6.08333, 50.775]  "
      ]
     },
     "execution_count": 6,
     "metadata": {},
     "output_type": "execute_result"
    }
   ],
   "source": [
    "for file in glob.glob(\"*.json\"):\n",
    "        with open(file) as json_file:\n",
    "            data = json.load(json_file)\n",
    "            f1 = pd.json_normalize(data, max_level=2)\n",
    "f1"
   ]
  },
  {
   "cell_type": "code",
   "execution_count": 9,
   "id": "95b76e03",
   "metadata": {},
   "outputs": [
    {
     "name": "stdout",
     "output_type": "stream",
     "text": [
      "     name id nametype recclass mass  fall                     year     reclat  \\\n",
      "0  Aachen  1    Valid       L5   21  Fell  1880-01-01T00:00:00.000  50.775000   \n",
      "\n",
      "    reclong geolocation.type  x-coordinate  y-coordinate  \n",
      "0  6.083330            Point       6.08333        50.775  \n"
     ]
    }
   ],
   "source": [
    "f1 = split_coordinate(f1)\n",
    "print(f1)\n",
    "f1.to_csv('file-1.csv')"
   ]
  },
  {
   "cell_type": "markdown",
   "id": "ba88b099",
   "metadata": {},
   "source": [
    "## File-4"
   ]
  },
  {
   "cell_type": "code",
   "execution_count": 10,
   "id": "526bd267",
   "metadata": {},
   "outputs": [],
   "source": [
    "os.chdir(\"./enough_already\")"
   ]
  },
  {
   "cell_type": "code",
   "execution_count": 11,
   "id": "6963197e",
   "metadata": {},
   "outputs": [
    {
     "data": {
      "text/html": [
       "<div>\n",
       "<style scoped>\n",
       "    .dataframe tbody tr th:only-of-type {\n",
       "        vertical-align: middle;\n",
       "    }\n",
       "\n",
       "    .dataframe tbody tr th {\n",
       "        vertical-align: top;\n",
       "    }\n",
       "\n",
       "    .dataframe thead th {\n",
       "        text-align: right;\n",
       "    }\n",
       "</style>\n",
       "<table border=\"1\" class=\"dataframe\">\n",
       "  <thead>\n",
       "    <tr style=\"text-align: right;\">\n",
       "      <th></th>\n",
       "      <th>name</th>\n",
       "      <th>id</th>\n",
       "      <th>nametype</th>\n",
       "      <th>recclass</th>\n",
       "      <th>mass</th>\n",
       "      <th>fall</th>\n",
       "      <th>year</th>\n",
       "      <th>reclat</th>\n",
       "      <th>reclong</th>\n",
       "      <th>geolocation.type</th>\n",
       "      <th>geolocation.coordinates</th>\n",
       "    </tr>\n",
       "  </thead>\n",
       "  <tbody>\n",
       "    <tr>\n",
       "      <th>0</th>\n",
       "      <td>Acapulco</td>\n",
       "      <td>10</td>\n",
       "      <td>Valid</td>\n",
       "      <td>Acapulcoite</td>\n",
       "      <td>1914</td>\n",
       "      <td>Fell</td>\n",
       "      <td>1976-01-01T00:00:00.000</td>\n",
       "      <td>16.883330</td>\n",
       "      <td>-99.900000</td>\n",
       "      <td>Point</td>\n",
       "      <td>[-99.9, 16.88333]</td>\n",
       "    </tr>\n",
       "  </tbody>\n",
       "</table>\n",
       "</div>"
      ],
      "text/plain": [
       "       name  id nametype     recclass  mass  fall                     year  \\\n",
       "0  Acapulco  10    Valid  Acapulcoite  1914  Fell  1976-01-01T00:00:00.000   \n",
       "\n",
       "      reclat     reclong geolocation.type geolocation.coordinates  \n",
       "0  16.883330  -99.900000            Point       [-99.9, 16.88333]  "
      ]
     },
     "execution_count": 11,
     "metadata": {},
     "output_type": "execute_result"
    }
   ],
   "source": [
    "for file in glob.glob(\"*.json\"):\n",
    "        with open(file) as json_file:\n",
    "            data = json.load(json_file)\n",
    "            f4 = pd.json_normalize(data, max_level=2)\n",
    "f4"
   ]
  },
  {
   "cell_type": "code",
   "execution_count": 12,
   "id": "568c9e2d",
   "metadata": {},
   "outputs": [
    {
     "name": "stdout",
     "output_type": "stream",
     "text": [
      "       name  id nametype     recclass  mass  fall                     year  \\\n",
      "0  Acapulco  10    Valid  Acapulcoite  1914  Fell  1976-01-01T00:00:00.000   \n",
      "\n",
      "      reclat     reclong geolocation.type  x-coordinate  y-coordinate  \n",
      "0  16.883330  -99.900000            Point         -99.9      16.88333  \n"
     ]
    }
   ],
   "source": [
    "f4 = split_coordinate(f4)\n",
    "print(f4)\n",
    "f4.to_csv('file-4.csv')"
   ]
  },
  {
   "cell_type": "markdown",
   "id": "c1879e73",
   "metadata": {},
   "source": [
    "## File-3"
   ]
  },
  {
   "cell_type": "code",
   "execution_count": 13,
   "id": "79dff1ef",
   "metadata": {},
   "outputs": [],
   "source": [
    "path = os.getcwd()"
   ]
  },
  {
   "cell_type": "code",
   "execution_count": 14,
   "id": "240571af",
   "metadata": {},
   "outputs": [],
   "source": [
    "os.chdir(os.path.dirname(path))"
   ]
  },
  {
   "cell_type": "code",
   "execution_count": 15,
   "id": "1b8d5725",
   "metadata": {},
   "outputs": [],
   "source": [
    "os.chdir(\"./other_folder\")"
   ]
  },
  {
   "cell_type": "code",
   "execution_count": 16,
   "id": "eab91f5b",
   "metadata": {},
   "outputs": [
    {
     "data": {
      "text/html": [
       "<div>\n",
       "<style scoped>\n",
       "    .dataframe tbody tr th:only-of-type {\n",
       "        vertical-align: middle;\n",
       "    }\n",
       "\n",
       "    .dataframe tbody tr th {\n",
       "        vertical-align: top;\n",
       "    }\n",
       "\n",
       "    .dataframe thead th {\n",
       "        text-align: right;\n",
       "    }\n",
       "</style>\n",
       "<table border=\"1\" class=\"dataframe\">\n",
       "  <thead>\n",
       "    <tr style=\"text-align: right;\">\n",
       "      <th></th>\n",
       "      <th>name</th>\n",
       "      <th>id</th>\n",
       "      <th>nametype</th>\n",
       "      <th>recclass</th>\n",
       "      <th>mass</th>\n",
       "      <th>fall</th>\n",
       "      <th>year</th>\n",
       "      <th>reclat</th>\n",
       "      <th>reclong</th>\n",
       "      <th>geolocation.type</th>\n",
       "      <th>geolocation.coordinates</th>\n",
       "    </tr>\n",
       "  </thead>\n",
       "  <tbody>\n",
       "    <tr>\n",
       "      <th>0</th>\n",
       "      <td>Abee</td>\n",
       "      <td>6</td>\n",
       "      <td>Valid</td>\n",
       "      <td>EH4</td>\n",
       "      <td>107000</td>\n",
       "      <td>Fell</td>\n",
       "      <td>1952-01-01T00:00:00.000</td>\n",
       "      <td>54.216670</td>\n",
       "      <td>-113.000000</td>\n",
       "      <td>Point</td>\n",
       "      <td>[-113, 54.21667]</td>\n",
       "    </tr>\n",
       "  </tbody>\n",
       "</table>\n",
       "</div>"
      ],
      "text/plain": [
       "   name id nametype recclass    mass  fall                     year  \\\n",
       "0  Abee  6    Valid      EH4  107000  Fell  1952-01-01T00:00:00.000   \n",
       "\n",
       "      reclat      reclong geolocation.type geolocation.coordinates  \n",
       "0  54.216670  -113.000000            Point        [-113, 54.21667]  "
      ]
     },
     "execution_count": 16,
     "metadata": {},
     "output_type": "execute_result"
    }
   ],
   "source": [
    "for file in glob.glob(\"*.json\"):\n",
    "        with open(file) as json_file:\n",
    "            data = json.load(json_file)\n",
    "            f3 = pd.json_normalize(data, max_level=2)\n",
    "f3"
   ]
  },
  {
   "cell_type": "code",
   "execution_count": 17,
   "id": "ebe9d664",
   "metadata": {},
   "outputs": [
    {
     "name": "stdout",
     "output_type": "stream",
     "text": [
      "   name id nametype recclass    mass  fall                     year  \\\n",
      "0  Abee  6    Valid      EH4  107000  Fell  1952-01-01T00:00:00.000   \n",
      "\n",
      "      reclat      reclong geolocation.type  x-coordinate  y-coordinate  \n",
      "0  54.216670  -113.000000            Point          -113      54.21667  \n"
     ]
    }
   ],
   "source": [
    "f3 = split_coordinate(f3)\n",
    "print(f3)\n",
    "f3.to_csv('file-3.csv')"
   ]
  },
  {
   "cell_type": "markdown",
   "id": "26639d50",
   "metadata": {},
   "source": [
    "## File-2"
   ]
  },
  {
   "cell_type": "code",
   "execution_count": 18,
   "id": "91d91c58",
   "metadata": {},
   "outputs": [],
   "source": [
    "path = os.getcwd()\n",
    "os.chdir(os.path.dirname(path))\n",
    "os.chdir(\"./some_folder/other_folder\")"
   ]
  },
  {
   "cell_type": "code",
   "execution_count": 19,
   "id": "892bf171",
   "metadata": {},
   "outputs": [
    {
     "data": {
      "text/html": [
       "<div>\n",
       "<style scoped>\n",
       "    .dataframe tbody tr th:only-of-type {\n",
       "        vertical-align: middle;\n",
       "    }\n",
       "\n",
       "    .dataframe tbody tr th {\n",
       "        vertical-align: top;\n",
       "    }\n",
       "\n",
       "    .dataframe thead th {\n",
       "        text-align: right;\n",
       "    }\n",
       "</style>\n",
       "<table border=\"1\" class=\"dataframe\">\n",
       "  <thead>\n",
       "    <tr style=\"text-align: right;\">\n",
       "      <th></th>\n",
       "      <th>name</th>\n",
       "      <th>id</th>\n",
       "      <th>nametype</th>\n",
       "      <th>recclass</th>\n",
       "      <th>mass</th>\n",
       "      <th>fall</th>\n",
       "      <th>year</th>\n",
       "      <th>reclat</th>\n",
       "      <th>reclong</th>\n",
       "      <th>geolocation.type</th>\n",
       "      <th>geolocation.coordinates</th>\n",
       "    </tr>\n",
       "  </thead>\n",
       "  <tbody>\n",
       "    <tr>\n",
       "      <th>0</th>\n",
       "      <td>Aarhus</td>\n",
       "      <td>2</td>\n",
       "      <td>Valid</td>\n",
       "      <td>H6</td>\n",
       "      <td>720</td>\n",
       "      <td>Fell</td>\n",
       "      <td>1951-01-01T00:00:00.000</td>\n",
       "      <td>56.183330</td>\n",
       "      <td>10.233330</td>\n",
       "      <td>Point</td>\n",
       "      <td>[10.23333, 56.18333]</td>\n",
       "    </tr>\n",
       "  </tbody>\n",
       "</table>\n",
       "</div>"
      ],
      "text/plain": [
       "     name id nametype recclass mass  fall                     year     reclat  \\\n",
       "0  Aarhus  2    Valid       H6  720  Fell  1951-01-01T00:00:00.000  56.183330   \n",
       "\n",
       "     reclong geolocation.type geolocation.coordinates  \n",
       "0  10.233330            Point    [10.23333, 56.18333]  "
      ]
     },
     "execution_count": 19,
     "metadata": {},
     "output_type": "execute_result"
    }
   ],
   "source": [
    "for file in glob.glob(\"*.json\"):\n",
    "        with open(file) as json_file:\n",
    "            data = json.load(json_file)\n",
    "            f2 = pd.json_normalize(data, max_level=2)\n",
    "f2"
   ]
  },
  {
   "cell_type": "code",
   "execution_count": 20,
   "id": "f8580a8c",
   "metadata": {},
   "outputs": [
    {
     "name": "stdout",
     "output_type": "stream",
     "text": [
      "     name id nametype recclass mass  fall                     year     reclat  \\\n",
      "0  Aarhus  2    Valid       H6  720  Fell  1951-01-01T00:00:00.000  56.183330   \n",
      "\n",
      "     reclong geolocation.type  x-coordinate  y-coordinate  \n",
      "0  10.233330            Point      10.23333      56.18333  \n"
     ]
    }
   ],
   "source": [
    "f2 = split_coordinate(f2)\n",
    "print(f2)\n",
    "f2.to_csv('file-2.csv')"
   ]
  }
 ],
 "metadata": {
  "kernelspec": {
   "display_name": "Python 3 (ipykernel)",
   "language": "python",
   "name": "python3"
  },
  "language_info": {
   "codemirror_mode": {
    "name": "ipython",
    "version": 3
   },
   "file_extension": ".py",
   "mimetype": "text/x-python",
   "name": "python",
   "nbconvert_exporter": "python",
   "pygments_lexer": "ipython3",
   "version": "3.9.7"
  }
 },
 "nbformat": 4,
 "nbformat_minor": 5
}
